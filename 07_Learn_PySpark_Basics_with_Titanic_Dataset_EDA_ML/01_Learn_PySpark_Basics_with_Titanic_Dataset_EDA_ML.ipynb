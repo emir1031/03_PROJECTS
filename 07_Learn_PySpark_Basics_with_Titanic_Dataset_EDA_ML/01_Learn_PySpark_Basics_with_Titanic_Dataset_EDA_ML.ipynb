{
 "cells": [
  {
   "cell_type": "markdown",
   "id": "090c0b7f",
   "metadata": {},
   "source": [
    "<h1 style=\"color:MidnightBlue; opacity: 0.8; font-size:250%; text-align:center; border-radius:7px;\">PySpark Basics with Titanic Dataset</h1>\n",
    "\n",
    "\n",
    "* [<span style=\"color:LightCoral\"><font size=\"5\">Selamlar!!</font></span>](#0)\n",
    "\n",
    "\n",
    "* [<span style=\"color:LightCoral\"><font size=\"5\">Gerekli Kütüphanelerin Yüklenmesi (Imports etc.)</font></span>](#1)\n",
    "\n",
    "\n",
    "* [<span style=\"color:LightCoral\"><font size=\"5\">Datasetin Okunması (spark.read.csv())</font></span>](#2)\n",
    "\n",
    "\n",
    "* [<span style=\"color:LightCoral\"><font size=\"5\">İki Ayrı Datasetin Birleştirilmesi (unionByName())</font></span>](#3)\n",
    "\n",
    "\n",
    "* [<span style=\"color:LightCoral\"><font size=\"5\">Info (printSchema())</font></span>](#4)\n",
    "\n",
    "\n",
    "* [<span style=\"color:LightCoral\"><font size=\"5\">Missing Values (SQL Functions)</font></span>](#5)\n",
    "\n",
    "    - [<span style=\"color:#9C27B0; opacity:1\"><font size=\"4\">Sadece Bir Sütun için Missing Values</font></span>](#5.1)\n",
    "    - [<span style=\"color:#9C27B0; opacity:1\"><font size=\"4\">Bütün Dataset için Missing Values</font></span>](#5.2)\n",
    " \n",
    "* [<span style=\"color:LightCoral\"><font size=\"5\">GroupBy()</font></span>](#6)\n",
    "\n",
    "\n",
    "* [<span style=\"color:LightCoral\"><font size=\"5\">NaN Value'ları Doldurma (fillna() / na.fill())</font></span>](#7)\n",
    "\n",
    "\n",
    "* [<span style=\"color:LightCoral\"><font size=\"5\">Yeni Sütun Ekleme \"Unvan\" (withColumn())</font></span>](#8)\n",
    "\n",
    "\n",
    "* [<span style=\"color:LightCoral\"><font size=\"5\">PySpark'ta value_counts()</font></span>](#9)\n",
    "\n",
    "\n",
    "* [<span style=\"color:LightCoral\"><font size=\"5\">PySpark'ta unique()</font></span>](#10)\n",
    "\n",
    "\n",
    "* [<span style=\"color:LightCoral\"><font size=\"5\">DataFrame Oluşturma and Replace</font></span>](#11)\n",
    "\n",
    "\n",
    "* [<span style=\"color:LightCoral\"><font size=\"5\">GroupedData Mean ve Median</font></span>](#12)\n",
    "\n",
    "\n",
    "* [<span style=\"color:LightCoral\"><font size=\"5\">Yeni Sütun Ekleme \"Family\" (withColumn())</font></span>](#13)\n",
    "\n",
    "\n",
    "* [<span style=\"color:LightCoral\"><font size=\"5\">Özel Condition ile NaN Valueları Dolduralım</font></span>](#14)\n",
    "\n",
    "\n",
    "* [<span style=\"color:LightCoral\"><font size=\"5\">Get Dummy Fonksiyonu (Indexer+Encoder+Assembler)</font></span>](#15)\n",
    "\n",
    "\n",
    "* [<span style=\"color:LightCoral\"><font size=\"5\">Model Train</font></span>](#16)\n",
    "    - [<span style=\"color:#9C27B0; opacity:1\"><font size=\"4\">limit() İle Datayı Bölmek</font></span>](#16.1)\n",
    "    - [<span style=\"color:#9C27B0; opacity:1\"><font size=\"4\">randomSplit() İle Datayı Ayırmak</font></span>](#16.2)\n",
    "    - [<span style=\"color:#9C27B0; opacity:1\"><font size=\"4\">LogisticRegression Model</font></span>](#16.3)\n",
    "    - [<span style=\"color:#9C27B0; opacity:1\"><font size=\"4\">DecisionTreeClassifier Model</font></span>](#16.4)\n",
    "    - [<span style=\"color:#9C27B0; opacity:1\"><font size=\"4\">RandomForestClassifier Model</font></span>](#16.5)\n",
    "    \n",
    "    \n",
    "* [<span style=\"color:LightCoral\"><font size=\"5\">Sonuç</font></span>](#17)"
   ]
  },
  {
   "cell_type": "markdown",
   "id": "3e5b7a8b",
   "metadata": {},
   "source": [
    "# <span style=\"color:LightCoral; background-color:#F5EEF8\"><font size=\"6\">Merhaba</font></span> <a id=\"0\"> </a>\n",
    "### Bu notebook Pyspark kütüphanesinin syntax yani yazımını ve kullanımı öğrenmeye yöneliktir.\n",
    "#### Jupyter Notebook ile Nasıl Pyspark kullanılır?<br>\n",
    "[YouTube Linki İçin Tıklayınız](https://www.youtube.com/watch?v=DznteGdeJoA)\n",
    "### **December 10th, 2021**"
   ]
  },
  {
   "cell_type": "markdown",
   "id": "8c5b8dc4",
   "metadata": {},
   "source": [
    "# <span style=\"color:LightCoral; background-color:#F5EEF8\"><font size=\"6\">Installing and Importing Necessary Libraries</font></span><a id=\"1\"> </a>"
   ]
  },
  {
   "cell_type": "code",
   "execution_count": 1,
   "id": "1d92646f",
   "metadata": {},
   "outputs": [],
   "source": [
    "#pip install pyspark"
   ]
  },
  {
   "cell_type": "code",
   "execution_count": 2,
   "id": "8f23d5fa",
   "metadata": {},
   "outputs": [],
   "source": [
    "#pip install findspark"
   ]
  },
  {
   "cell_type": "code",
   "execution_count": 1,
   "id": "a43e84af-544b-4006-92f0-27c981006e30",
   "metadata": {},
   "outputs": [],
   "source": [
    "import pyspark"
   ]
  },
  {
   "cell_type": "code",
   "execution_count": 2,
   "id": "45fea9c9",
   "metadata": {},
   "outputs": [
    {
     "data": {
      "text/plain": [
       "'C:\\\\spark-3.2.1-bin-hadoop3.2'"
      ]
     },
     "execution_count": 2,
     "metadata": {},
     "output_type": "execute_result"
    }
   ],
   "source": [
    "import findspark\n",
    "findspark.init()\n",
    "findspark.find()"
   ]
  },
  {
   "cell_type": "code",
   "execution_count": 3,
   "id": "5682d180",
   "metadata": {},
   "outputs": [],
   "source": [
    "# Uyarıları ignore yani göz ardı edelim\n",
    "import warnings\n",
    "warnings.filterwarnings(\"ignore\")\n",
    "\n",
    "# Pyspark kütüphaneimizi \"classification\" tabanlı olarak yükleyip import edelim\n",
    "# Spark session yapmak için detaylı bilgileri buradan veya google'dan öğrenebilrsiniz:\n",
    "# https://pretagteam.com/question/making-spark-session   \n",
    "from pyspark.sql import SparkSession\n",
    "spark = SparkSession.builder.appName('Classification').getOrCreate()\n",
    "\n",
    "# pyspark.sql.functions listesi --> https://spark.apache.org/docs/2.1.0/api/python/pyspark.sql.html#module-pyspark.sql.functions\n",
    "# pyspark kütüphanesinin machine learning feature'ları hakkında detaylı bilgi için --> https://spark.apache.org/docs/latest/ml-features\n",
    "from pyspark.sql import functions as F\n",
    "from pyspark.ml.feature import *"
   ]
  },
  {
   "cell_type": "markdown",
   "id": "ba75f29e",
   "metadata": {},
   "source": [
    "# <span style=\"color:LightCoral; background-color:#F5EEF8\"><font size=\"6\">Reading Datasets</font></span><a id=\"2\"> </a>"
   ]
  },
  {
   "cell_type": "code",
   "execution_count": 4,
   "id": "dbc2ce5b",
   "metadata": {},
   "outputs": [],
   "source": [
    "# Pyspark ile .csv uzantılı dosyaların okunuşu\n",
    "# titanic veri setleri --> https://www.kaggle.com/c/titanic/data\n",
    "df1 = spark.read.csv(\"ttrain.csv\",inferSchema=True, header=True)\n",
    "df2 = spark.read.csv(\"ttest.csv\",inferSchema=True, header=True)"
   ]
  },
  {
   "cell_type": "code",
   "execution_count": 5,
   "id": "bdc78a8d",
   "metadata": {},
   "outputs": [
    {
     "name": "stdout",
     "output_type": "stream",
     "text": [
      "+-----------+--------+------+--------------------+------+----+-----+-----+----------------+-------+-----+--------+\n",
      "|PassengerId|Survived|Pclass|                Name|   Sex| Age|SibSp|Parch|          Ticket|   Fare|Cabin|Embarked|\n",
      "+-----------+--------+------+--------------------+------+----+-----+-----+----------------+-------+-----+--------+\n",
      "|          1|       0|     3|Braund, Mr. Owen ...|  male|22.0|    1|    0|       A/5 21171|   7.25| null|       S|\n",
      "|          2|       1|     1|Cumings, Mrs. Joh...|female|38.0|    1|    0|        PC 17599|71.2833|  C85|       C|\n",
      "|          3|       1|     3|Heikkinen, Miss. ...|female|26.0|    0|    0|STON/O2. 3101282|  7.925| null|       S|\n",
      "|          4|       1|     1|Futrelle, Mrs. Ja...|female|35.0|    1|    0|          113803|   53.1| C123|       S|\n",
      "|          5|       0|     3|Allen, Mr. Willia...|  male|35.0|    0|    0|          373450|   8.05| null|       S|\n",
      "|          6|       0|     3|    Moran, Mr. James|  male|null|    0|    0|          330877| 8.4583| null|       Q|\n",
      "|          7|       0|     1|McCarthy, Mr. Tim...|  male|54.0|    0|    0|           17463|51.8625|  E46|       S|\n",
      "|          8|       0|     3|Palsson, Master. ...|  male| 2.0|    3|    1|          349909| 21.075| null|       S|\n",
      "|          9|       1|     3|Johnson, Mrs. Osc...|female|27.0|    0|    2|          347742|11.1333| null|       S|\n",
      "|         10|       1|     2|Nasser, Mrs. Nich...|female|14.0|    1|    0|          237736|30.0708| null|       C|\n",
      "|         11|       1|     3|Sandstrom, Miss. ...|female| 4.0|    1|    1|         PP 9549|   16.7|   G6|       S|\n",
      "|         12|       1|     1|Bonnell, Miss. El...|female|58.0|    0|    0|          113783|  26.55| C103|       S|\n",
      "|         13|       0|     3|Saundercock, Mr. ...|  male|20.0|    0|    0|       A/5. 2151|   8.05| null|       S|\n",
      "|         14|       0|     3|Andersson, Mr. An...|  male|39.0|    1|    5|          347082| 31.275| null|       S|\n",
      "|         15|       0|     3|Vestrom, Miss. Hu...|female|14.0|    0|    0|          350406| 7.8542| null|       S|\n",
      "|         16|       1|     2|Hewlett, Mrs. (Ma...|female|55.0|    0|    0|          248706|   16.0| null|       S|\n",
      "|         17|       0|     3|Rice, Master. Eugene|  male| 2.0|    4|    1|          382652| 29.125| null|       Q|\n",
      "|         18|       1|     2|Williams, Mr. Cha...|  male|null|    0|    0|          244373|   13.0| null|       S|\n",
      "|         19|       0|     3|Vander Planke, Mr...|female|31.0|    1|    0|          345763|   18.0| null|       S|\n",
      "|         20|       1|     3|Masselmani, Mrs. ...|female|null|    0|    0|            2649|  7.225| null|       C|\n",
      "+-----------+--------+------+--------------------+------+----+-----+-----+----------------+-------+-----+--------+\n",
      "only showing top 20 rows\n",
      "\n"
     ]
    }
   ],
   "source": [
    "df1.show()"
   ]
  },
  {
   "cell_type": "code",
   "execution_count": 6,
   "id": "b90540b0",
   "metadata": {},
   "outputs": [
    {
     "name": "stdout",
     "output_type": "stream",
     "text": [
      "+-----------+------+--------------------+------+----+-----+-----+----------------+-------+-----+--------+\n",
      "|PassengerId|Pclass|                Name|   Sex| Age|SibSp|Parch|          Ticket|   Fare|Cabin|Embarked|\n",
      "+-----------+------+--------------------+------+----+-----+-----+----------------+-------+-----+--------+\n",
      "|        892|     3|    Kelly, Mr. James|  male|34.5|    0|    0|          330911| 7.8292| null|       Q|\n",
      "|        893|     3|Wilkes, Mrs. Jame...|female|47.0|    1|    0|          363272|    7.0| null|       S|\n",
      "|        894|     2|Myles, Mr. Thomas...|  male|62.0|    0|    0|          240276| 9.6875| null|       Q|\n",
      "|        895|     3|    Wirz, Mr. Albert|  male|27.0|    0|    0|          315154| 8.6625| null|       S|\n",
      "|        896|     3|Hirvonen, Mrs. Al...|female|22.0|    1|    1|         3101298|12.2875| null|       S|\n",
      "|        897|     3|Svensson, Mr. Joh...|  male|14.0|    0|    0|            7538|  9.225| null|       S|\n",
      "|        898|     3|Connolly, Miss. Kate|female|30.0|    0|    0|          330972| 7.6292| null|       Q|\n",
      "|        899|     2|Caldwell, Mr. Alb...|  male|26.0|    1|    1|          248738|   29.0| null|       S|\n",
      "|        900|     3|Abrahim, Mrs. Jos...|female|18.0|    0|    0|            2657| 7.2292| null|       C|\n",
      "|        901|     3|Davies, Mr. John ...|  male|21.0|    2|    0|       A/4 48871|  24.15| null|       S|\n",
      "|        902|     3|    Ilieff, Mr. Ylio|  male|null|    0|    0|          349220| 7.8958| null|       S|\n",
      "|        903|     1|Jones, Mr. Charle...|  male|46.0|    0|    0|             694|   26.0| null|       S|\n",
      "|        904|     1|Snyder, Mrs. John...|female|23.0|    1|    0|           21228|82.2667|  B45|       S|\n",
      "|        905|     2|Howard, Mr. Benjamin|  male|63.0|    1|    0|           24065|   26.0| null|       S|\n",
      "|        906|     1|Chaffee, Mrs. Her...|female|47.0|    1|    0|     W.E.P. 5734| 61.175|  E31|       S|\n",
      "|        907|     2|del Carlo, Mrs. S...|female|24.0|    1|    0|   SC/PARIS 2167|27.7208| null|       C|\n",
      "|        908|     2|   Keane, Mr. Daniel|  male|35.0|    0|    0|          233734|  12.35| null|       Q|\n",
      "|        909|     3|   Assaf, Mr. Gerios|  male|21.0|    0|    0|            2692|  7.225| null|       C|\n",
      "|        910|     3|Ilmakangas, Miss....|female|27.0|    1|    0|STON/O2. 3101270|  7.925| null|       S|\n",
      "|        911|     3|\"Assaf Khalil, Mr...|female|45.0|    0|    0|            2696|  7.225| null|       C|\n",
      "+-----------+------+--------------------+------+----+-----+-----+----------------+-------+-----+--------+\n",
      "only showing top 20 rows\n",
      "\n"
     ]
    }
   ],
   "source": [
    "df2.show()"
   ]
  },
  {
   "cell_type": "markdown",
   "id": "eb897754",
   "metadata": {},
   "source": [
    "Pyspark'ta pandas gibi index slicing olarak köşeli parantez ile işlem yapamıyoruz.<br>\n",
    "DataFrame'leri ise aşağıdaki syntax ile birleştirebiliriz."
   ]
  },
  {
   "cell_type": "markdown",
   "id": "f43b37fb",
   "metadata": {},
   "source": [
    "# <span style=\"color:LightCoral; background-color:#F5EEF8\"><font size=\"6\">How to Combine 2 Different Datasets</font></span><a id=\"3\"> </a>"
   ]
  },
  {
   "cell_type": "code",
   "execution_count": 7,
   "id": "f01592ea",
   "metadata": {},
   "outputs": [],
   "source": [
    "# allowMissingColumns parametresi kayıp column (sütunlara) izin veriyor.\n",
    "# yani 11 ve 12 sütunlu iki ayrı dataframe i 12 sütun halinde birleştiriyor. NaN ile dolduruyor.\n",
    "df = df1.unionByName(df2, allowMissingColumns=True)"
   ]
  },
  {
   "cell_type": "code",
   "execution_count": 8,
   "id": "494ca00d",
   "metadata": {},
   "outputs": [
    {
     "name": "stdout",
     "output_type": "stream",
     "text": [
      "Bu datasette 1309 adet satır ve 12 adet sütun vardır\n"
     ]
    }
   ],
   "source": [
    "# satır = df.count()\n",
    "# sütun = len(df.columns)\n",
    "print('Bu datasette {satır} adet satır ve {sütun} adet sütun vardır'.format(satır=df.count(), sütun=len(df.columns)))"
   ]
  },
  {
   "cell_type": "markdown",
   "id": "81f1e257",
   "metadata": {},
   "source": [
    "Peki neden bu datasetleri birleştirdik?\n",
    "    \n",
    "- Burada amaç iki datasetinin birleştirilmesini öğrenmek."
   ]
  },
  {
   "cell_type": "markdown",
   "id": "0400bbc4",
   "metadata": {},
   "source": [
    "# <span style=\"color:LightCoral; background-color:#F5EEF8\"><font size=\"6\">How to Check Info</font></span><a id=\"4\"> </a>"
   ]
  },
  {
   "cell_type": "code",
   "execution_count": 9,
   "id": "4998b8b1",
   "metadata": {},
   "outputs": [
    {
     "name": "stdout",
     "output_type": "stream",
     "text": [
      "root\n",
      " |-- PassengerId: integer (nullable = true)\n",
      " |-- Survived: integer (nullable = true)\n",
      " |-- Pclass: integer (nullable = true)\n",
      " |-- Name: string (nullable = true)\n",
      " |-- Sex: string (nullable = true)\n",
      " |-- Age: double (nullable = true)\n",
      " |-- SibSp: integer (nullable = true)\n",
      " |-- Parch: integer (nullable = true)\n",
      " |-- Ticket: string (nullable = true)\n",
      " |-- Fare: double (nullable = true)\n",
      " |-- Cabin: string (nullable = true)\n",
      " |-- Embarked: string (nullable = true)\n",
      "\n"
     ]
    }
   ],
   "source": [
    "# info = df.printSchema()\n",
    "df.printSchema()"
   ]
  },
  {
   "cell_type": "markdown",
   "id": "daacb969",
   "metadata": {},
   "source": [
    "# <span style=\"color:LightCoral; background-color:#F5EEF8\"><font size=\"6\">How to Check Missing Values</font></span><a id=\"5\"> </a>\n",
    "\n",
    "[Pyspark filter rows with null values](https://sparkbyexamples.com/pyspark/pyspark-filter-rows-with-null-values/)"
   ]
  },
  {
   "cell_type": "markdown",
   "id": "54745ede",
   "metadata": {},
   "source": [
    "# <span style=\"color:LightCoral; background-color:#F5EEF8\"><font size=\"6\">For 1 Column</font></span> <a id=\"5.1\"></a>"
   ]
  },
  {
   "cell_type": "code",
   "execution_count": 10,
   "id": "6df52836",
   "metadata": {},
   "outputs": [
    {
     "name": "stdout",
     "output_type": "stream",
     "text": [
      "+-----------+--------+------+--------------------+------+----+-----+-----+----------------+-------+-----+--------+\n",
      "|PassengerId|Survived|Pclass|                Name|   Sex| Age|SibSp|Parch|          Ticket|   Fare|Cabin|Embarked|\n",
      "+-----------+--------+------+--------------------+------+----+-----+-----+----------------+-------+-----+--------+\n",
      "|        892|    null|     3|    Kelly, Mr. James|  male|34.5|    0|    0|          330911| 7.8292| null|       Q|\n",
      "|        893|    null|     3|Wilkes, Mrs. Jame...|female|47.0|    1|    0|          363272|    7.0| null|       S|\n",
      "|        894|    null|     2|Myles, Mr. Thomas...|  male|62.0|    0|    0|          240276| 9.6875| null|       Q|\n",
      "|        895|    null|     3|    Wirz, Mr. Albert|  male|27.0|    0|    0|          315154| 8.6625| null|       S|\n",
      "|        896|    null|     3|Hirvonen, Mrs. Al...|female|22.0|    1|    1|         3101298|12.2875| null|       S|\n",
      "|        897|    null|     3|Svensson, Mr. Joh...|  male|14.0|    0|    0|            7538|  9.225| null|       S|\n",
      "|        898|    null|     3|Connolly, Miss. Kate|female|30.0|    0|    0|          330972| 7.6292| null|       Q|\n",
      "|        899|    null|     2|Caldwell, Mr. Alb...|  male|26.0|    1|    1|          248738|   29.0| null|       S|\n",
      "|        900|    null|     3|Abrahim, Mrs. Jos...|female|18.0|    0|    0|            2657| 7.2292| null|       C|\n",
      "|        901|    null|     3|Davies, Mr. John ...|  male|21.0|    2|    0|       A/4 48871|  24.15| null|       S|\n",
      "|        902|    null|     3|    Ilieff, Mr. Ylio|  male|null|    0|    0|          349220| 7.8958| null|       S|\n",
      "|        903|    null|     1|Jones, Mr. Charle...|  male|46.0|    0|    0|             694|   26.0| null|       S|\n",
      "|        904|    null|     1|Snyder, Mrs. John...|female|23.0|    1|    0|           21228|82.2667|  B45|       S|\n",
      "|        905|    null|     2|Howard, Mr. Benjamin|  male|63.0|    1|    0|           24065|   26.0| null|       S|\n",
      "|        906|    null|     1|Chaffee, Mrs. Her...|female|47.0|    1|    0|     W.E.P. 5734| 61.175|  E31|       S|\n",
      "|        907|    null|     2|del Carlo, Mrs. S...|female|24.0|    1|    0|   SC/PARIS 2167|27.7208| null|       C|\n",
      "|        908|    null|     2|   Keane, Mr. Daniel|  male|35.0|    0|    0|          233734|  12.35| null|       Q|\n",
      "|        909|    null|     3|   Assaf, Mr. Gerios|  male|21.0|    0|    0|            2692|  7.225| null|       C|\n",
      "|        910|    null|     3|Ilmakangas, Miss....|female|27.0|    1|    0|STON/O2. 3101270|  7.925| null|       S|\n",
      "|        911|    null|     3|\"Assaf Khalil, Mr...|female|45.0|    0|    0|            2696|  7.225| null|       C|\n",
      "+-----------+--------+------+--------------------+------+----+-----+-----+----------------+-------+-----+--------+\n",
      "only showing top 20 rows\n",
      "\n"
     ]
    }
   ],
   "source": [
    "# First Way --> Just with 1 condition\n",
    "df.filter(\"Survived is NULL\").show()"
   ]
  },
  {
   "cell_type": "code",
   "execution_count": 11,
   "id": "417e118e",
   "metadata": {},
   "outputs": [
    {
     "name": "stdout",
     "output_type": "stream",
     "text": [
      "+-----------+--------+------+--------------------+------+----+-----+-----+----------------+-------+-----+--------+\n",
      "|PassengerId|Survived|Pclass|                Name|   Sex| Age|SibSp|Parch|          Ticket|   Fare|Cabin|Embarked|\n",
      "+-----------+--------+------+--------------------+------+----+-----+-----+----------------+-------+-----+--------+\n",
      "|        892|    null|     3|    Kelly, Mr. James|  male|34.5|    0|    0|          330911| 7.8292| null|       Q|\n",
      "|        893|    null|     3|Wilkes, Mrs. Jame...|female|47.0|    1|    0|          363272|    7.0| null|       S|\n",
      "|        894|    null|     2|Myles, Mr. Thomas...|  male|62.0|    0|    0|          240276| 9.6875| null|       Q|\n",
      "|        895|    null|     3|    Wirz, Mr. Albert|  male|27.0|    0|    0|          315154| 8.6625| null|       S|\n",
      "|        896|    null|     3|Hirvonen, Mrs. Al...|female|22.0|    1|    1|         3101298|12.2875| null|       S|\n",
      "|        897|    null|     3|Svensson, Mr. Joh...|  male|14.0|    0|    0|            7538|  9.225| null|       S|\n",
      "|        898|    null|     3|Connolly, Miss. Kate|female|30.0|    0|    0|          330972| 7.6292| null|       Q|\n",
      "|        899|    null|     2|Caldwell, Mr. Alb...|  male|26.0|    1|    1|          248738|   29.0| null|       S|\n",
      "|        900|    null|     3|Abrahim, Mrs. Jos...|female|18.0|    0|    0|            2657| 7.2292| null|       C|\n",
      "|        901|    null|     3|Davies, Mr. John ...|  male|21.0|    2|    0|       A/4 48871|  24.15| null|       S|\n",
      "|        902|    null|     3|    Ilieff, Mr. Ylio|  male|null|    0|    0|          349220| 7.8958| null|       S|\n",
      "|        903|    null|     1|Jones, Mr. Charle...|  male|46.0|    0|    0|             694|   26.0| null|       S|\n",
      "|        904|    null|     1|Snyder, Mrs. John...|female|23.0|    1|    0|           21228|82.2667|  B45|       S|\n",
      "|        905|    null|     2|Howard, Mr. Benjamin|  male|63.0|    1|    0|           24065|   26.0| null|       S|\n",
      "|        906|    null|     1|Chaffee, Mrs. Her...|female|47.0|    1|    0|     W.E.P. 5734| 61.175|  E31|       S|\n",
      "|        907|    null|     2|del Carlo, Mrs. S...|female|24.0|    1|    0|   SC/PARIS 2167|27.7208| null|       C|\n",
      "|        908|    null|     2|   Keane, Mr. Daniel|  male|35.0|    0|    0|          233734|  12.35| null|       Q|\n",
      "|        909|    null|     3|   Assaf, Mr. Gerios|  male|21.0|    0|    0|            2692|  7.225| null|       C|\n",
      "|        910|    null|     3|Ilmakangas, Miss....|female|27.0|    1|    0|STON/O2. 3101270|  7.925| null|       S|\n",
      "|        911|    null|     3|\"Assaf Khalil, Mr...|female|45.0|    0|    0|            2696|  7.225| null|       C|\n",
      "+-----------+--------+------+--------------------+------+----+-----+-----+----------------+-------+-----+--------+\n",
      "only showing top 20 rows\n",
      "\n"
     ]
    }
   ],
   "source": [
    "# Second Way --> Just with 1 condition\n",
    "df.filter(df.Survived.isNull()).show()"
   ]
  },
  {
   "cell_type": "code",
   "execution_count": 12,
   "id": "e5e104ac",
   "metadata": {},
   "outputs": [
    {
     "name": "stdout",
     "output_type": "stream",
     "text": [
      "+-----------+--------+------+--------------------+------+----+-----+-----+----------------+-------+-----+--------+\n",
      "|PassengerId|Survived|Pclass|                Name|   Sex| Age|SibSp|Parch|          Ticket|   Fare|Cabin|Embarked|\n",
      "+-----------+--------+------+--------------------+------+----+-----+-----+----------------+-------+-----+--------+\n",
      "|        892|    null|     3|    Kelly, Mr. James|  male|34.5|    0|    0|          330911| 7.8292| null|       Q|\n",
      "|        893|    null|     3|Wilkes, Mrs. Jame...|female|47.0|    1|    0|          363272|    7.0| null|       S|\n",
      "|        894|    null|     2|Myles, Mr. Thomas...|  male|62.0|    0|    0|          240276| 9.6875| null|       Q|\n",
      "|        895|    null|     3|    Wirz, Mr. Albert|  male|27.0|    0|    0|          315154| 8.6625| null|       S|\n",
      "|        896|    null|     3|Hirvonen, Mrs. Al...|female|22.0|    1|    1|         3101298|12.2875| null|       S|\n",
      "|        897|    null|     3|Svensson, Mr. Joh...|  male|14.0|    0|    0|            7538|  9.225| null|       S|\n",
      "|        898|    null|     3|Connolly, Miss. Kate|female|30.0|    0|    0|          330972| 7.6292| null|       Q|\n",
      "|        899|    null|     2|Caldwell, Mr. Alb...|  male|26.0|    1|    1|          248738|   29.0| null|       S|\n",
      "|        900|    null|     3|Abrahim, Mrs. Jos...|female|18.0|    0|    0|            2657| 7.2292| null|       C|\n",
      "|        901|    null|     3|Davies, Mr. John ...|  male|21.0|    2|    0|       A/4 48871|  24.15| null|       S|\n",
      "|        902|    null|     3|    Ilieff, Mr. Ylio|  male|null|    0|    0|          349220| 7.8958| null|       S|\n",
      "|        903|    null|     1|Jones, Mr. Charle...|  male|46.0|    0|    0|             694|   26.0| null|       S|\n",
      "|        904|    null|     1|Snyder, Mrs. John...|female|23.0|    1|    0|           21228|82.2667|  B45|       S|\n",
      "|        905|    null|     2|Howard, Mr. Benjamin|  male|63.0|    1|    0|           24065|   26.0| null|       S|\n",
      "|        906|    null|     1|Chaffee, Mrs. Her...|female|47.0|    1|    0|     W.E.P. 5734| 61.175|  E31|       S|\n",
      "|        907|    null|     2|del Carlo, Mrs. S...|female|24.0|    1|    0|   SC/PARIS 2167|27.7208| null|       C|\n",
      "|        908|    null|     2|   Keane, Mr. Daniel|  male|35.0|    0|    0|          233734|  12.35| null|       Q|\n",
      "|        909|    null|     3|   Assaf, Mr. Gerios|  male|21.0|    0|    0|            2692|  7.225| null|       C|\n",
      "|        910|    null|     3|Ilmakangas, Miss....|female|27.0|    1|    0|STON/O2. 3101270|  7.925| null|       S|\n",
      "|        911|    null|     3|\"Assaf Khalil, Mr...|female|45.0|    0|    0|            2696|  7.225| null|       C|\n",
      "+-----------+--------+------+--------------------+------+----+-----+-----+----------------+-------+-----+--------+\n",
      "only showing top 20 rows\n",
      "\n"
     ]
    }
   ],
   "source": [
    "# Third Way --> Fourth Wayfrom pyspark.sql.functions \n",
    "df.filter(F.col(\"Survived\").isNull()).show()"
   ]
  },
  {
   "cell_type": "code",
   "execution_count": 13,
   "id": "a780872c",
   "metadata": {},
   "outputs": [
    {
     "name": "stdout",
     "output_type": "stream",
     "text": [
      "+-----------+--------+------+------------------+----+----+-----+-----+------+----+-----+--------+\n",
      "|PassengerId|Survived|Pclass|              Name| Sex| Age|SibSp|Parch|Ticket|Fare|Cabin|Embarked|\n",
      "+-----------+--------+------+------------------+----+----+-----+-----+------+----+-----+--------+\n",
      "|       1044|    null|     3|Storey, Mr. Thomas|male|60.5|    0|    0|  3701|null| null|       S|\n",
      "+-----------+--------+------+------------------+----+----+-----+-----+------+----+-----+--------+\n",
      "\n"
     ]
    }
   ],
   "source": [
    "# Second Way --> Combine more than 1 conditions\n",
    "df.filter(\"Survived is NULL and Fare is NULL\").show()"
   ]
  },
  {
   "cell_type": "markdown",
   "id": "bd4a7fa0",
   "metadata": {},
   "source": [
    "# <span style=\"color:LightCoral; background-color:#F5EEF8\"><font size=\"6\">For Entire Dataset</font></span> <a id=\"5.2\"></a>"
   ]
  },
  {
   "cell_type": "code",
   "execution_count": 14,
   "id": "92b1808a",
   "metadata": {},
   "outputs": [
    {
     "name": "stdout",
     "output_type": "stream",
     "text": [
      "+-----------+--------+------+----+---+---+-----+-----+------+----+-----+--------+\n",
      "|PassengerId|Survived|Pclass|Name|Sex|Age|SibSp|Parch|Ticket|Fare|Cabin|Embarked|\n",
      "+-----------+--------+------+----+---+---+-----+-----+------+----+-----+--------+\n",
      "|          0|     418|     0|   0|  0|263|    0|    0|     0|   1| 1014|       2|\n",
      "+-----------+--------+------+----+---+---+-----+-----+------+----+-----+--------+\n",
      "\n"
     ]
    }
   ],
   "source": [
    "# First Way (side by side)\n",
    "df.select([F.count(F.when(F.isnull(c), c)).alias(c) for c in df.columns]).show()"
   ]
  },
  {
   "cell_type": "code",
   "execution_count": 16,
   "id": "c1c79ec1",
   "metadata": {},
   "outputs": [
    {
     "name": "stdout",
     "output_type": "stream",
     "text": [
      "+-----------+\n",
      "|PassengerId|\n",
      "+-----------+\n",
      "|          0|\n",
      "+-----------+\n",
      "\n",
      "+--------+\n",
      "|Survived|\n",
      "+--------+\n",
      "|     418|\n",
      "+--------+\n",
      "\n",
      "+------+\n",
      "|Pclass|\n",
      "+------+\n",
      "|     0|\n",
      "+------+\n",
      "\n",
      "+----+\n",
      "|Name|\n",
      "+----+\n",
      "|   0|\n",
      "+----+\n",
      "\n",
      "+---+\n",
      "|Sex|\n",
      "+---+\n",
      "|  0|\n",
      "+---+\n",
      "\n",
      "+---+\n",
      "|Age|\n",
      "+---+\n",
      "|263|\n",
      "+---+\n",
      "\n",
      "+-----+\n",
      "|SibSp|\n",
      "+-----+\n",
      "|    0|\n",
      "+-----+\n",
      "\n",
      "+-----+\n",
      "|Parch|\n",
      "+-----+\n",
      "|    0|\n",
      "+-----+\n",
      "\n",
      "+------+\n",
      "|Ticket|\n",
      "+------+\n",
      "|     0|\n",
      "+------+\n",
      "\n",
      "+----+\n",
      "|Fare|\n",
      "+----+\n",
      "|   1|\n",
      "+----+\n",
      "\n",
      "+-----+\n",
      "|Cabin|\n",
      "+-----+\n",
      "| 1014|\n",
      "+-----+\n",
      "\n",
      "+--------+\n",
      "|Embarked|\n",
      "+--------+\n",
      "|       2|\n",
      "+--------+\n",
      "\n"
     ]
    }
   ],
   "source": [
    "# First Way (one after the other)\n",
    "for column in df.columns:\n",
    "    df.select([F.count(F.when(F.isnull(column), column)).alias(column)]).show()"
   ]
  },
  {
   "cell_type": "code",
   "execution_count": 17,
   "id": "a1163679",
   "metadata": {},
   "outputs": [],
   "source": [
    "# Second Way (Creating def)\n",
    "\n",
    "import pyspark.sql.functions as F\n",
    "def count_missings(spark_df,sort=True):\n",
    "    \"\"\"\n",
    "    Counts number of nulls and nans in each column\n",
    "    \"\"\"\n",
    "    df = spark_df.select([F.count(F.when(F.isnan(c) | F.isnull(c), c)).alias(c) for (c,c_type) in spark_df.dtypes if c_type not in ('timestamp', 'string', 'date')]).toPandas()\n",
    "\n",
    "    if len(df) == 0:\n",
    "        print(\"There are no any missing values!\")\n",
    "        return None\n",
    "\n",
    "    if sort:\n",
    "        return df.rename(index={0: 'count'}).T.sort_values(\"count\",ascending=False)\n",
    "\n",
    "    return df"
   ]
  },
  {
   "cell_type": "code",
   "execution_count": 18,
   "id": "b97301c7",
   "metadata": {},
   "outputs": [
    {
     "data": {
      "text/html": [
       "<div>\n",
       "<style scoped>\n",
       "    .dataframe tbody tr th:only-of-type {\n",
       "        vertical-align: middle;\n",
       "    }\n",
       "\n",
       "    .dataframe tbody tr th {\n",
       "        vertical-align: top;\n",
       "    }\n",
       "\n",
       "    .dataframe thead th {\n",
       "        text-align: right;\n",
       "    }\n",
       "</style>\n",
       "<table border=\"1\" class=\"dataframe\">\n",
       "  <thead>\n",
       "    <tr style=\"text-align: right;\">\n",
       "      <th></th>\n",
       "      <th>count</th>\n",
       "    </tr>\n",
       "  </thead>\n",
       "  <tbody>\n",
       "    <tr>\n",
       "      <th>Survived</th>\n",
       "      <td>418</td>\n",
       "    </tr>\n",
       "    <tr>\n",
       "      <th>Age</th>\n",
       "      <td>263</td>\n",
       "    </tr>\n",
       "    <tr>\n",
       "      <th>Fare</th>\n",
       "      <td>1</td>\n",
       "    </tr>\n",
       "    <tr>\n",
       "      <th>PassengerId</th>\n",
       "      <td>0</td>\n",
       "    </tr>\n",
       "    <tr>\n",
       "      <th>Pclass</th>\n",
       "      <td>0</td>\n",
       "    </tr>\n",
       "    <tr>\n",
       "      <th>SibSp</th>\n",
       "      <td>0</td>\n",
       "    </tr>\n",
       "    <tr>\n",
       "      <th>Parch</th>\n",
       "      <td>0</td>\n",
       "    </tr>\n",
       "  </tbody>\n",
       "</table>\n",
       "</div>"
      ],
      "text/plain": [
       "             count\n",
       "Survived       418\n",
       "Age            263\n",
       "Fare             1\n",
       "PassengerId      0\n",
       "Pclass           0\n",
       "SibSp            0\n",
       "Parch            0"
      ]
     },
     "execution_count": 18,
     "metadata": {},
     "output_type": "execute_result"
    }
   ],
   "source": [
    "count_missings(df)  # Sort edilmiş"
   ]
  },
  {
   "cell_type": "code",
   "execution_count": 19,
   "id": "4e495f08",
   "metadata": {},
   "outputs": [
    {
     "data": {
      "text/html": [
       "<div>\n",
       "<style scoped>\n",
       "    .dataframe tbody tr th:only-of-type {\n",
       "        vertical-align: middle;\n",
       "    }\n",
       "\n",
       "    .dataframe tbody tr th {\n",
       "        vertical-align: top;\n",
       "    }\n",
       "\n",
       "    .dataframe thead th {\n",
       "        text-align: right;\n",
       "    }\n",
       "</style>\n",
       "<table border=\"1\" class=\"dataframe\">\n",
       "  <thead>\n",
       "    <tr style=\"text-align: right;\">\n",
       "      <th></th>\n",
       "      <th>PassengerId</th>\n",
       "      <th>Survived</th>\n",
       "      <th>Pclass</th>\n",
       "      <th>Age</th>\n",
       "      <th>SibSp</th>\n",
       "      <th>Parch</th>\n",
       "      <th>Fare</th>\n",
       "    </tr>\n",
       "  </thead>\n",
       "  <tbody>\n",
       "    <tr>\n",
       "      <th>0</th>\n",
       "      <td>0</td>\n",
       "      <td>418</td>\n",
       "      <td>0</td>\n",
       "      <td>263</td>\n",
       "      <td>0</td>\n",
       "      <td>0</td>\n",
       "      <td>1</td>\n",
       "    </tr>\n",
       "  </tbody>\n",
       "</table>\n",
       "</div>"
      ],
      "text/plain": [
       "   PassengerId  Survived  Pclass  Age  SibSp  Parch  Fare\n",
       "0            0       418       0  263      0      0     1"
      ]
     },
     "execution_count": 19,
     "metadata": {},
     "output_type": "execute_result"
    }
   ],
   "source": [
    "count_missings(df, False)  # Sort edilmemiş"
   ]
  },
  {
   "cell_type": "code",
   "execution_count": 20,
   "id": "fa3fd3bb",
   "metadata": {},
   "outputs": [
    {
     "data": {
      "text/plain": [
       "{'PassengerId': 0,\n",
       " 'Survived': 418,\n",
       " 'Pclass': 0,\n",
       " 'Name': 0,\n",
       " 'Sex': 0,\n",
       " 'Age': 263,\n",
       " 'SibSp': 0,\n",
       " 'Parch': 0,\n",
       " 'Ticket': 0,\n",
       " 'Fare': 1,\n",
       " 'Cabin': 1014,\n",
       " 'Embarked': 2}"
      ]
     },
     "execution_count": 20,
     "metadata": {},
     "output_type": "execute_result"
    }
   ],
   "source": [
    "# Third Way (with dict)\n",
    "\n",
    "null_counter = {cols:df.filter(df[cols].isNull()).count() for cols in df.columns}\n",
    "null_counter"
   ]
  },
  {
   "cell_type": "markdown",
   "id": "a60a8057",
   "metadata": {},
   "source": [
    "# <span style=\"color:LightCoral; background-color:#F5EEF8\"><font size=\"6\">Usage of groupBy()</font></span> <a id=\"6\"></a>"
   ]
  },
  {
   "cell_type": "markdown",
   "id": "4f87ca11",
   "metadata": {},
   "source": [
    "Bildiğiniz üzere groupby fonksiyonu aggregate fonksiyonlar ile kullanılır.<br>\n",
    "Pyspark kütüphanesinin GroupedData aggregate fonksiyonlarından bazıları:<br>\n",
    "avg | count | max | min | mean<br>\n",
    "Daha ayrıntlı GroupedData detaylar için --> https://spark.apache.org/docs/3.1.1/api/python/reference/api/pyspark.sql.GroupedData.htmlaggregate<br>\n",
    "Tüm aggregate fonksiyonlar için --> https://sparkbyexamples.com/pyspark/pyspark-aggregate-functions/"
   ]
  },
  {
   "cell_type": "code",
   "execution_count": 21,
   "id": "76df16cb",
   "metadata": {},
   "outputs": [
    {
     "name": "stdout",
     "output_type": "stream",
     "text": [
      "+------+-----------------+-------------------+------------------+-----------------+------------------+------------------+------------------+\n",
      "|   Sex| avg(PassengerId)|      avg(Survived)|       avg(Pclass)|         avg(Age)|        avg(SibSp)|        avg(Parch)|         avg(Fare)|\n",
      "+------+-----------------+-------------------+------------------+-----------------+------------------+------------------+------------------+\n",
      "|female|  648.18669527897| 0.7420382165605095|2.1545064377682404|28.68708762886598|0.6523605150214592|0.6330472103004292| 46.19809656652358|\n",
      "|  male|658.7663107947806|0.18890814558058924| 2.372479240806643|30.58522796352584|0.4139976275207592|0.2479240806642942|26.154600831353914|\n",
      "+------+-----------------+-------------------+------------------+-----------------+------------------+------------------+------------------+\n",
      "\n"
     ]
    }
   ],
   "source": [
    "df.groupBy(\"Sex\").mean().show()"
   ]
  },
  {
   "cell_type": "code",
   "execution_count": 22,
   "id": "d9256a27",
   "metadata": {},
   "outputs": [
    {
     "name": "stdout",
     "output_type": "stream",
     "text": [
      "+-------+----------------+-------------+-----------+--------+----------+----------+---------+\n",
      "|   Fare|sum(PassengerId)|sum(Survived)|sum(Pclass)|sum(Age)|sum(SibSp)|sum(Parch)|sum(Fare)|\n",
      "+-------+----------------+-------------+-----------+--------+----------+----------+---------+\n",
      "| 8.5167|            1800|            1|          6|   16.42|         1|         2|  17.0334|\n",
      "|   15.5|            5277|            3|         30|    72.0|         8|         2|    155.0|\n",
      "| 133.65|             996|            2|          2|    50.0|         3|         0|    267.3|\n",
      "| 29.125|            3089|            0|         18|    70.0|        20|        10|   174.75|\n",
      "|10.4625|             458|            0|          6|    31.0|         1|         2|   20.925|\n",
      "| 7.0458|             478|            0|          3|    29.0|         1|         0|   7.0458|\n",
      "|  9.475|              41|            0|          3|    40.0|         1|         0|    9.475|\n",
      "|11.1333|            1052|            3|          9|    32.0|         2|         4|  33.3999|\n",
      "|    0.0|           10168|            1|         31|   295.0|         0|         0|      0.0|\n",
      "| 7.7333|            5457|            2|         21|    85.0|         0|         0|  54.1331|\n",
      "|   73.5|            4250|            0|         14|   151.0|         6|         0|    514.5|\n",
      "|77.2875|             228|            0|          2|    75.0|         0|         2|  154.575|\n",
      "|   15.9|            1780|            2|          9|    48.0|         2|         4|     47.7|\n",
      "|   11.5|            4826|            0|         12|   122.0|         4|         1|     69.0|\n",
      "| 8.6833|             798|            1|          3|    31.0|         0|         0|   8.6833|\n",
      "|41.5792|            2527|            2|          8|    51.0|         4|         8| 166.3168|\n",
      "|    9.5|            7306|            2|         36|   301.5|         0|         0|    114.0|\n",
      "| 8.4042|             198|            0|          3|    42.0|         0|         1|   8.4042|\n",
      "|14.4542|            6070|            1|         30|   163.5|         8|         2|  144.542|\n",
      "|14.4583|            2448|            0|         12|    17.0|         2|         0|  57.8332|\n",
      "+-------+----------------+-------------+-----------+--------+----------+----------+---------+\n",
      "only showing top 20 rows\n",
      "\n"
     ]
    }
   ],
   "source": [
    "df.groupBy(\"Fare\").sum().show()"
   ]
  },
  {
   "cell_type": "code",
   "execution_count": 23,
   "id": "5db67146",
   "metadata": {},
   "outputs": [
    {
     "name": "stdout",
     "output_type": "stream",
     "text": [
      "+--------+-----+\n",
      "|Embarked|count|\n",
      "+--------+-----+\n",
      "|       Q|  123|\n",
      "|    null|    2|\n",
      "|       C|  270|\n",
      "|       S|  914|\n",
      "+--------+-----+\n",
      "\n"
     ]
    }
   ],
   "source": [
    "df.groupBy(\"Embarked\").count().show()"
   ]
  },
  {
   "cell_type": "markdown",
   "id": "2c9e104c",
   "metadata": {},
   "source": [
    "# <span style=\"color:LightCoral; background-color:#F5EEF8\"><font size=\"6\">How to Fill NaN Values</font></span> <a id=\"7\"></a>"
   ]
  },
  {
   "cell_type": "code",
   "execution_count": 24,
   "id": "3834f2bc",
   "metadata": {},
   "outputs": [],
   "source": [
    "df = df.fillna({\"Embarked\" : \"S\"})"
   ]
  },
  {
   "cell_type": "code",
   "execution_count": 25,
   "id": "8369fdc0",
   "metadata": {},
   "outputs": [
    {
     "name": "stdout",
     "output_type": "stream",
     "text": [
      "+--------+-----+\n",
      "|Embarked|count|\n",
      "+--------+-----+\n",
      "|       Q|  123|\n",
      "|       C|  270|\n",
      "|       S|  916|\n",
      "+--------+-----+\n",
      "\n"
     ]
    }
   ],
   "source": [
    "df.groupBy(\"Embarked\").count().show()"
   ]
  },
  {
   "cell_type": "code",
   "execution_count": 26,
   "id": "08b20960",
   "metadata": {},
   "outputs": [],
   "source": [
    "# Bir diğer NaN valueları doldurma yöntemi ise \n",
    "df = df.na.fill({'Embarked': 'S'})"
   ]
  },
  {
   "cell_type": "markdown",
   "id": "5406ff15",
   "metadata": {},
   "source": [
    "# <center><span style=\"color:LightCoral; background-color:#F5EEF8\"><font size=\"6\">Feature Engineering with Pyspark</font></span>"
   ]
  },
  {
   "cell_type": "markdown",
   "id": "1e2a0990",
   "metadata": {},
   "source": [
    "# <span style=\"color:LightCoral; background-color:#F5EEF8\"><font size=\"6\">Adding New Column --> withColumn</font></span> <a id=\"8\"></a>"
   ]
  },
  {
   "cell_type": "code",
   "execution_count": 27,
   "id": "0e794890",
   "metadata": {},
   "outputs": [
    {
     "name": "stdout",
     "output_type": "stream",
     "text": [
      "+-----------+--------+------+--------------------+------+----+-----+-----+---------+-------+-----+--------+\n",
      "|PassengerId|Survived|Pclass|                Name|   Sex| Age|SibSp|Parch|   Ticket|   Fare|Cabin|Embarked|\n",
      "+-----------+--------+------+--------------------+------+----+-----+-----+---------+-------+-----+--------+\n",
      "|          1|       0|     3|Braund, Mr. Owen ...|  male|22.0|    1|    0|A/5 21171|   7.25| null|       S|\n",
      "|          2|       1|     1|Cumings, Mrs. Joh...|female|38.0|    1|    0| PC 17599|71.2833|  C85|       C|\n",
      "+-----------+--------+------+--------------------+------+----+-----+-----+---------+-------+-----+--------+\n",
      "only showing top 2 rows\n",
      "\n"
     ]
    }
   ],
   "source": [
    "df.show(2)"
   ]
  },
  {
   "cell_type": "markdown",
   "id": "4eae74c7",
   "metadata": {},
   "source": [
    "Regex yöntemini kullanarak \"Name\" sütunundaki birinci indexleri (Mrs - Mr) title/ünvan olarak alalım."
   ]
  },
  {
   "cell_type": "code",
   "execution_count": 28,
   "id": "a39b2509",
   "metadata": {},
   "outputs": [
    {
     "name": "stdout",
     "output_type": "stream",
     "text": [
      "+-----------+--------+------+--------------------+------+----+-----+-----+----------------+-------+-----+--------+------+\n",
      "|PassengerId|Survived|Pclass|                Name|   Sex| Age|SibSp|Parch|          Ticket|   Fare|Cabin|Embarked| Unvan|\n",
      "+-----------+--------+------+--------------------+------+----+-----+-----+----------------+-------+-----+--------+------+\n",
      "|          1|       0|     3|Braund, Mr. Owen ...|  male|22.0|    1|    0|       A/5 21171|   7.25| null|       S|    Mr|\n",
      "|          2|       1|     1|Cumings, Mrs. Joh...|female|38.0|    1|    0|        PC 17599|71.2833|  C85|       C|   Mrs|\n",
      "|          3|       1|     3|Heikkinen, Miss. ...|female|26.0|    0|    0|STON/O2. 3101282|  7.925| null|       S|  Miss|\n",
      "|          4|       1|     1|Futrelle, Mrs. Ja...|female|35.0|    1|    0|          113803|   53.1| C123|       S|   Mrs|\n",
      "|          5|       0|     3|Allen, Mr. Willia...|  male|35.0|    0|    0|          373450|   8.05| null|       S|    Mr|\n",
      "|          6|       0|     3|    Moran, Mr. James|  male|null|    0|    0|          330877| 8.4583| null|       Q|    Mr|\n",
      "|          7|       0|     1|McCarthy, Mr. Tim...|  male|54.0|    0|    0|           17463|51.8625|  E46|       S|    Mr|\n",
      "|          8|       0|     3|Palsson, Master. ...|  male| 2.0|    3|    1|          349909| 21.075| null|       S|Master|\n",
      "|          9|       1|     3|Johnson, Mrs. Osc...|female|27.0|    0|    2|          347742|11.1333| null|       S|   Mrs|\n",
      "|         10|       1|     2|Nasser, Mrs. Nich...|female|14.0|    1|    0|          237736|30.0708| null|       C|   Mrs|\n",
      "|         11|       1|     3|Sandstrom, Miss. ...|female| 4.0|    1|    1|         PP 9549|   16.7|   G6|       S|  Miss|\n",
      "|         12|       1|     1|Bonnell, Miss. El...|female|58.0|    0|    0|          113783|  26.55| C103|       S|  Miss|\n",
      "|         13|       0|     3|Saundercock, Mr. ...|  male|20.0|    0|    0|       A/5. 2151|   8.05| null|       S|    Mr|\n",
      "|         14|       0|     3|Andersson, Mr. An...|  male|39.0|    1|    5|          347082| 31.275| null|       S|    Mr|\n",
      "|         15|       0|     3|Vestrom, Miss. Hu...|female|14.0|    0|    0|          350406| 7.8542| null|       S|  Miss|\n",
      "|         16|       1|     2|Hewlett, Mrs. (Ma...|female|55.0|    0|    0|          248706|   16.0| null|       S|   Mrs|\n",
      "|         17|       0|     3|Rice, Master. Eugene|  male| 2.0|    4|    1|          382652| 29.125| null|       Q|Master|\n",
      "|         18|       1|     2|Williams, Mr. Cha...|  male|null|    0|    0|          244373|   13.0| null|       S|    Mr|\n",
      "|         19|       0|     3|Vander Planke, Mr...|female|31.0|    1|    0|          345763|   18.0| null|       S|   Mrs|\n",
      "|         20|       1|     3|Masselmani, Mrs. ...|female|null|    0|    0|            2649|  7.225| null|       C|   Mrs|\n",
      "+-----------+--------+------+--------------------+------+----+-----+-----+----------------+-------+-----+--------+------+\n",
      "only showing top 20 rows\n",
      "\n"
     ]
    }
   ],
   "source": [
    "# Pyspark ile Regex fonksiyonu extract ve replace olarak kullanılır. Daha detaylı kullanımı için bakınız\n",
    "# https://spark.apache.org/docs/latest/api/python/reference/api/pyspark.sql.functions.regexp_extract.html\n",
    "df = df.withColumn(\"Unvan\",F.regexp_extract(F.col(\"Name\"),\" ([A-Za-z]+)\\.\",1))\n",
    "df.show()"
   ]
  },
  {
   "cell_type": "markdown",
   "id": "7df169ca",
   "metadata": {},
   "source": [
    "# <span style=\"color:LightCoral; background-color:#F5EEF8\"><font size=\"6\">Pyspark value_counts</font></span> <a id=\"9\"></a>"
   ]
  },
  {
   "cell_type": "code",
   "execution_count": 29,
   "id": "a0cc0aa6",
   "metadata": {},
   "outputs": [
    {
     "name": "stdout",
     "output_type": "stream",
     "text": [
      "+--------+-----+\n",
      "|   Unvan|count|\n",
      "+--------+-----+\n",
      "|      Mr|  757|\n",
      "|    Miss|  260|\n",
      "|     Mrs|  197|\n",
      "|  Master|   61|\n",
      "|     Rev|    8|\n",
      "|      Dr|    8|\n",
      "|     Col|    4|\n",
      "|   Major|    2|\n",
      "|    Mlle|    2|\n",
      "|      Ms|    2|\n",
      "|     Don|    1|\n",
      "|     Sir|    1|\n",
      "|Countess|    1|\n",
      "|Jonkheer|    1|\n",
      "|    Lady|    1|\n",
      "|     Mme|    1|\n",
      "|    Dona|    1|\n",
      "|    Capt|    1|\n",
      "+--------+-----+\n",
      "\n"
     ]
    }
   ],
   "source": [
    "# df.groupBy('Unvan').count().show()\n",
    "df.groupBy('Unvan').count().orderBy('count', ascending=False).show()"
   ]
  },
  {
   "cell_type": "markdown",
   "id": "56df48f1",
   "metadata": {},
   "source": [
    "# <span style=\"color:LightCoral; background-color:#F5EEF8\"><font size=\"6\">Pyspark unique</font></span> <a id=\"10\"></a>"
   ]
  },
  {
   "cell_type": "code",
   "execution_count": 30,
   "id": "01716930",
   "metadata": {},
   "outputs": [
    {
     "name": "stdout",
     "output_type": "stream",
     "text": [
      "+--------+\n",
      "|   Unvan|\n",
      "+--------+\n",
      "|     Don|\n",
      "|    Miss|\n",
      "|Countess|\n",
      "|     Col|\n",
      "|     Rev|\n",
      "|    Lady|\n",
      "|  Master|\n",
      "|     Mme|\n",
      "|    Capt|\n",
      "|      Mr|\n",
      "|      Dr|\n",
      "|     Mrs|\n",
      "|     Sir|\n",
      "|Jonkheer|\n",
      "|    Mlle|\n",
      "|   Major|\n",
      "|      Ms|\n",
      "|    Dona|\n",
      "+--------+\n",
      "\n"
     ]
    }
   ],
   "source": [
    "df.select(\"Unvan\").distinct().show()"
   ]
  },
  {
   "cell_type": "markdown",
   "id": "8e416cb9",
   "metadata": {},
   "source": [
    "# <span style=\"color:LightCoral; background-color:#F5EEF8\"><font size=\"6\">Pyspark Creating DataFrame and Replace</font></span> <a id=\"11\"></a>"
   ]
  },
  {
   "cell_type": "markdown",
   "id": "f7a9e2ae",
   "metadata": {},
   "source": [
    "Genellikle kullanılan ünvanları Mr, Mrs, Miss ve Other olacak şekilde değiştirecek olursak:<br>\n",
    "Aşağıdaki bilgilere göre bir dataframe oluşturup bakalım;\n",
    "    \n",
    "- 'Mlle', 'Mme', 'Ms' --> Miss\n",
    "- 'Lady', 'Dona', 'Countess' --> Mrs\n",
    "- 'Dr', 'Master', 'Major', 'Capt', 'Sir', 'Don' --> Mr\n",
    "- 'Jonkheer' , 'Col' , 'Rev'  --> Other"
   ]
  },
  {
   "cell_type": "code",
   "execution_count": 31,
   "id": "6caa5d6a",
   "metadata": {},
   "outputs": [
    {
     "name": "stdout",
     "output_type": "stream",
     "text": [
      "+----+--------+------+--------+\n",
      "|Miss|     Mrs|    Mr|   Other|\n",
      "+----+--------+------+--------+\n",
      "|Mlle|    Lady|    Dr|Jonkheer|\n",
      "| Mme|    Dona|Master|     Col|\n",
      "|  Ms|Countess| Major|     Rev|\n",
      "|    |        |  Capt|        |\n",
      "|    |        |   Sir|        |\n",
      "|    |        |   Don|        |\n",
      "+----+--------+------+--------+\n",
      "\n"
     ]
    }
   ],
   "source": [
    "import pandas as pd\n",
    "\n",
    "unvan = pd.DataFrame(\n",
    "                        {\n",
    "                            \"Miss\":  ['Mlle',     'Mme',    'Ms',       \"\",     \"\",    \"\"],\n",
    "                            \"Mrs\" :  ['Lady',     'Dona',   'Countess', \"\",     \"\",    \"\"],\n",
    "                            \"Mr\":    ['Dr',       'Master', 'Major',    'Capt', 'Sir', 'Don'],\n",
    "                            \"Other\": ['Jonkheer', 'Col' ,   'Rev',      \"\",      \"\",    \"\"]\n",
    "                        }\n",
    "                    )\n",
    "\n",
    "unvan= spark.createDataFrame(unvan)\n",
    "unvan.show()"
   ]
  },
  {
   "cell_type": "code",
   "execution_count": 32,
   "id": "eba04b5d",
   "metadata": {},
   "outputs": [],
   "source": [
    "df = df.replace(['Mlle','Mme', 'Ms', 'Dr','Master','Major','Lady','Dona','Countess','Jonkheer','Col','Rev','Capt','Sir','Don'],\n",
    "                ['Miss','Miss','Miss','Mr','Mr', 'Mr', 'Mrs',  'Mrs', 'Mrs', 'Other',  'Other','Other','Mr','Mr','Mr'])"
   ]
  },
  {
   "cell_type": "code",
   "execution_count": 33,
   "id": "f5708834",
   "metadata": {},
   "outputs": [
    {
     "name": "stdout",
     "output_type": "stream",
     "text": [
      "+-----+-----+\n",
      "|Unvan|count|\n",
      "+-----+-----+\n",
      "| Miss|  265|\n",
      "|Other|   13|\n",
      "|   Mr|  831|\n",
      "|  Mrs|  200|\n",
      "+-----+-----+\n",
      "\n"
     ]
    }
   ],
   "source": [
    "df.groupBy('Unvan').count().show()"
   ]
  },
  {
   "cell_type": "code",
   "execution_count": 34,
   "id": "4a4789d6",
   "metadata": {},
   "outputs": [
    {
     "name": "stdout",
     "output_type": "stream",
     "text": [
      "+-----+\n",
      "|Unvan|\n",
      "+-----+\n",
      "| Miss|\n",
      "|Other|\n",
      "|   Mr|\n",
      "|  Mrs|\n",
      "+-----+\n",
      "\n"
     ]
    }
   ],
   "source": [
    "df.select(\"Unvan\").distinct().show()"
   ]
  },
  {
   "cell_type": "markdown",
   "id": "2368b307",
   "metadata": {},
   "source": [
    "# <span style=\"color:LightCoral; background-color:#F5EEF8\"><font size=\"6\">Pyspark GroupedData Mean and Median</font></span> <a id=\"12\"></a>"
   ]
  },
  {
   "cell_type": "code",
   "execution_count": 35,
   "id": "678f8ebf",
   "metadata": {},
   "outputs": [
    {
     "name": "stdout",
     "output_type": "stream",
     "text": [
      "+-----+------------------+\n",
      "|Unvan|          avg(age)|\n",
      "+-----+------------------+\n",
      "| Miss|21.834532710280374|\n",
      "|Other| 44.92307692307692|\n",
      "|   Mr|30.325201238390097|\n",
      "|  Mrs| 37.04624277456647|\n",
      "+-----+------------------+\n",
      "\n"
     ]
    }
   ],
   "source": [
    "# mean\n",
    "df.groupBy(\"Unvan\").mean(\"age\").show()"
   ]
  },
  {
   "cell_type": "code",
   "execution_count": 36,
   "id": "216b7f93",
   "metadata": {},
   "outputs": [
    {
     "name": "stdout",
     "output_type": "stream",
     "text": [
      "+-----+-----------+\n",
      "|Unvan|median(age)|\n",
      "+-----+-----------+\n",
      "| Miss|       22.0|\n",
      "|Other|       47.0|\n",
      "|   Mr|       28.0|\n",
      "|  Mrs|       36.0|\n",
      "+-----+-----------+\n",
      "\n"
     ]
    }
   ],
   "source": [
    "# median 1\n",
    "df.groupBy('Unvan').agg(F.percentile_approx(\"Age\", 0.5).alias(\"median(age)\")).show()"
   ]
  },
  {
   "cell_type": "code",
   "execution_count": 37,
   "id": "d19d98d2",
   "metadata": {},
   "outputs": [
    {
     "name": "stdout",
     "output_type": "stream",
     "text": [
      "+-----+-----------+\n",
      "|Unvan|medain(age)|\n",
      "+-----+-----------+\n",
      "| Miss|       22.0|\n",
      "|Other|       47.0|\n",
      "|   Mr|       28.0|\n",
      "|  Mrs|       36.0|\n",
      "+-----+-----------+\n",
      "\n"
     ]
    }
   ],
   "source": [
    "# median 2\n",
    "df.groupby('Unvan').agg(F.expr('percentile(Age, array(0.50))')[0].alias('medain(age)')).show()"
   ]
  },
  {
   "cell_type": "markdown",
   "id": "ba27ed68",
   "metadata": {},
   "source": [
    "# <span style=\"color:LightCoral; background-color:#F5EEF8\"><font size=\"6\">Feature Enginnering Adding \"Family\" Column</font></span> <a id=\"13\"></a>"
   ]
  },
  {
   "cell_type": "code",
   "execution_count": 38,
   "id": "b441b07c",
   "metadata": {},
   "outputs": [
    {
     "name": "stdout",
     "output_type": "stream",
     "text": [
      "+-----------+--------+------+--------------------+------+----+-----+-----+----------------+-------+-----+--------+-----+------+\n",
      "|PassengerId|Survived|Pclass|                Name|   Sex| Age|SibSp|Parch|          Ticket|   Fare|Cabin|Embarked|Unvan|Family|\n",
      "+-----------+--------+------+--------------------+------+----+-----+-----+----------------+-------+-----+--------+-----+------+\n",
      "|          1|       0|     3|Braund, Mr. Owen ...|  male|22.0|    1|    0|       A/5 21171|   7.25| null|       S|   Mr|     2|\n",
      "|          2|       1|     1|Cumings, Mrs. Joh...|female|38.0|    1|    0|        PC 17599|71.2833|  C85|       C|  Mrs|     2|\n",
      "|          3|       1|     3|Heikkinen, Miss. ...|female|26.0|    0|    0|STON/O2. 3101282|  7.925| null|       S| Miss|     1|\n",
      "|          4|       1|     1|Futrelle, Mrs. Ja...|female|35.0|    1|    0|          113803|   53.1| C123|       S|  Mrs|     2|\n",
      "|          5|       0|     3|Allen, Mr. Willia...|  male|35.0|    0|    0|          373450|   8.05| null|       S|   Mr|     1|\n",
      "|          6|       0|     3|    Moran, Mr. James|  male|null|    0|    0|          330877| 8.4583| null|       Q|   Mr|     1|\n",
      "|          7|       0|     1|McCarthy, Mr. Tim...|  male|54.0|    0|    0|           17463|51.8625|  E46|       S|   Mr|     1|\n",
      "|          8|       0|     3|Palsson, Master. ...|  male| 2.0|    3|    1|          349909| 21.075| null|       S|   Mr|     5|\n",
      "|          9|       1|     3|Johnson, Mrs. Osc...|female|27.0|    0|    2|          347742|11.1333| null|       S|  Mrs|     3|\n",
      "|         10|       1|     2|Nasser, Mrs. Nich...|female|14.0|    1|    0|          237736|30.0708| null|       C|  Mrs|     2|\n",
      "|         11|       1|     3|Sandstrom, Miss. ...|female| 4.0|    1|    1|         PP 9549|   16.7|   G6|       S| Miss|     3|\n",
      "|         12|       1|     1|Bonnell, Miss. El...|female|58.0|    0|    0|          113783|  26.55| C103|       S| Miss|     1|\n",
      "|         13|       0|     3|Saundercock, Mr. ...|  male|20.0|    0|    0|       A/5. 2151|   8.05| null|       S|   Mr|     1|\n",
      "|         14|       0|     3|Andersson, Mr. An...|  male|39.0|    1|    5|          347082| 31.275| null|       S|   Mr|     7|\n",
      "|         15|       0|     3|Vestrom, Miss. Hu...|female|14.0|    0|    0|          350406| 7.8542| null|       S| Miss|     1|\n",
      "|         16|       1|     2|Hewlett, Mrs. (Ma...|female|55.0|    0|    0|          248706|   16.0| null|       S|  Mrs|     1|\n",
      "|         17|       0|     3|Rice, Master. Eugene|  male| 2.0|    4|    1|          382652| 29.125| null|       Q|   Mr|     6|\n",
      "|         18|       1|     2|Williams, Mr. Cha...|  male|null|    0|    0|          244373|   13.0| null|       S|   Mr|     1|\n",
      "|         19|       0|     3|Vander Planke, Mr...|female|31.0|    1|    0|          345763|   18.0| null|       S|  Mrs|     2|\n",
      "|         20|       1|     3|Masselmani, Mrs. ...|female|null|    0|    0|            2649|  7.225| null|       C|  Mrs|     1|\n",
      "+-----------+--------+------+--------------------+------+----+-----+-----+----------------+-------+-----+--------+-----+------+\n",
      "only showing top 20 rows\n",
      "\n"
     ]
    }
   ],
   "source": [
    "# Burada aile üyelerinin sayısı yani bir ailede kaç kişi var onu hesaplarız.\n",
    "# SibSp --> Titanik'teki kardeşlerin / eşlerin sayısı\n",
    "# Parch --> Titanik'teki ebeveynlerin / çocukların sayısı\n",
    "# Eğer kişinin kendisini de eklersek en sona +1 \n",
    "df = df.withColumn(\"Family\",F.col('SibSp')+F.col('Parch') + 1)\n",
    "df.show()"
   ]
  },
  {
   "cell_type": "markdown",
   "id": "c71a1ddc",
   "metadata": {},
   "source": [
    "# <span style=\"color:LightCoral; background-color:#F5EEF8\"><font size=\"6\">Fillna with Special Conditions</font></span> <a id=\"14\"></a>"
   ]
  },
  {
   "cell_type": "markdown",
   "id": "06595401",
   "metadata": {},
   "source": [
    "Yaşları ünvanlara göre grup halinde kendi aralarında dolduralım.<br>\n",
    "Normalde:<br>\n",
    "df['Age'] = df.groupby(['Unvan'])['Age'].fillna()\n",
    "\n",
    "\n",
    "Ama pysparkta:"
   ]
  },
  {
   "cell_type": "code",
   "execution_count": 39,
   "id": "631fd5b4",
   "metadata": {},
   "outputs": [],
   "source": [
    "df = df.withColumn(\"Age\",F.when((df[\"Unvan\"] == \"Miss\") & (df[\"Age\"].isNull()), 22).otherwise(df[\"Age\"]))\n",
    "df = df.withColumn(\"Age\",F.when((df[\"Unvan\"] == \"Other\") & (df[\"Age\"].isNull()), 46).otherwise(df[\"Age\"]))\n",
    "df = df.withColumn(\"Age\",F.when((df[\"Unvan\"] == \"Mr\") & (df[\"Age\"].isNull()), 28).otherwise(df[\"Age\"]))\n",
    "df = df.withColumn(\"Age\",F.when((df[\"Unvan\"] == \"Mrs\") & (df[\"Age\"].isNull()), 36).otherwise(df[\"Age\"]))"
   ]
  },
  {
   "cell_type": "code",
   "execution_count": 40,
   "id": "d10fd519",
   "metadata": {},
   "outputs": [],
   "source": [
    "# method 2"
   ]
  },
  {
   "cell_type": "code",
   "execution_count": 41,
   "id": "88c5e228",
   "metadata": {},
   "outputs": [
    {
     "name": "stdout",
     "output_type": "stream",
     "text": [
      "+-----------+--------+------+----+---+---+-----+-----+------+----+-----+--------+-----+------+\n",
      "|PassengerId|Survived|Pclass|Name|Sex|Age|SibSp|Parch|Ticket|Fare|Cabin|Embarked|Unvan|Family|\n",
      "+-----------+--------+------+----+---+---+-----+-----+------+----+-----+--------+-----+------+\n",
      "|          0|     418|     0|   0|  0|  0|    0|    0|     0|   1| 1014|       0|    0|     0|\n",
      "+-----------+--------+------+----+---+---+-----+-----+------+----+-----+--------+-----+------+\n",
      "\n"
     ]
    }
   ],
   "source": [
    "# Şimdi bir daha missing valuelara bakalım.\n",
    "df.select([F.count(F.when(F.isnull(c), c)).alias(c) for c in df.columns]).show()"
   ]
  },
  {
   "cell_type": "markdown",
   "id": "fbd91283",
   "metadata": {},
   "source": [
    "___"
   ]
  },
  {
   "cell_type": "code",
   "execution_count": 42,
   "id": "5f8d4154",
   "metadata": {},
   "outputs": [
    {
     "name": "stdout",
     "output_type": "stream",
     "text": [
      "+-----------------------------------+\n",
      "|percentile_approx(Fare, 0.5, 10000)|\n",
      "+-----------------------------------+\n",
      "|                            14.4542|\n",
      "+-----------------------------------+\n",
      "\n"
     ]
    }
   ],
   "source": [
    "# \"Fare\" sütununun median'ına bakalım\n",
    "df.agg(F.percentile_approx(\"Fare\",0.5)).show()"
   ]
  },
  {
   "cell_type": "code",
   "execution_count": 43,
   "id": "fb6dff02",
   "metadata": {},
   "outputs": [
    {
     "name": "stdout",
     "output_type": "stream",
     "text": [
      "+-----------------+\n",
      "|        avg(Fare)|\n",
      "+-----------------+\n",
      "|33.29547928134553|\n",
      "+-----------------+\n",
      "\n"
     ]
    }
   ],
   "source": [
    "# \"Fare\" ,için şimdi bir de mean skoruna bakalım\n",
    "df.agg(F.mean(\"Fare\")).show()"
   ]
  },
  {
   "cell_type": "code",
   "execution_count": 44,
   "id": "243a23e8",
   "metadata": {},
   "outputs": [],
   "source": [
    "# \"Fare\" sütunu için NaN değerleri median ile dolduralım\n",
    "df = df.fillna({\"Fare\" : 14.4542})"
   ]
  },
  {
   "cell_type": "code",
   "execution_count": 45,
   "id": "e802a65f",
   "metadata": {},
   "outputs": [
    {
     "data": {
      "text/html": [
       "<div>\n",
       "<style scoped>\n",
       "    .dataframe tbody tr th:only-of-type {\n",
       "        vertical-align: middle;\n",
       "    }\n",
       "\n",
       "    .dataframe tbody tr th {\n",
       "        vertical-align: top;\n",
       "    }\n",
       "\n",
       "    .dataframe thead th {\n",
       "        text-align: right;\n",
       "    }\n",
       "</style>\n",
       "<table border=\"1\" class=\"dataframe\">\n",
       "  <thead>\n",
       "    <tr style=\"text-align: right;\">\n",
       "      <th></th>\n",
       "      <th>count</th>\n",
       "    </tr>\n",
       "  </thead>\n",
       "  <tbody>\n",
       "    <tr>\n",
       "      <th>Survived</th>\n",
       "      <td>418</td>\n",
       "    </tr>\n",
       "    <tr>\n",
       "      <th>PassengerId</th>\n",
       "      <td>0</td>\n",
       "    </tr>\n",
       "    <tr>\n",
       "      <th>Pclass</th>\n",
       "      <td>0</td>\n",
       "    </tr>\n",
       "    <tr>\n",
       "      <th>Age</th>\n",
       "      <td>0</td>\n",
       "    </tr>\n",
       "    <tr>\n",
       "      <th>SibSp</th>\n",
       "      <td>0</td>\n",
       "    </tr>\n",
       "    <tr>\n",
       "      <th>Parch</th>\n",
       "      <td>0</td>\n",
       "    </tr>\n",
       "    <tr>\n",
       "      <th>Fare</th>\n",
       "      <td>0</td>\n",
       "    </tr>\n",
       "    <tr>\n",
       "      <th>Family</th>\n",
       "      <td>0</td>\n",
       "    </tr>\n",
       "  </tbody>\n",
       "</table>\n",
       "</div>"
      ],
      "text/plain": [
       "             count\n",
       "Survived       418\n",
       "PassengerId      0\n",
       "Pclass           0\n",
       "Age              0\n",
       "SibSp            0\n",
       "Parch            0\n",
       "Fare             0\n",
       "Family           0"
      ]
     },
     "execution_count": 45,
     "metadata": {},
     "output_type": "execute_result"
    }
   ],
   "source": [
    "count_missings(df)"
   ]
  },
  {
   "cell_type": "markdown",
   "id": "3338cb29",
   "metadata": {},
   "source": [
    "# <span style=\"color:LightCoral; background-color:#F5EEF8\"><font size=\"6\">How to Get Dummy (Indexer+Encoder+Assembler) with PySpark</font></span> <a id=\"15\"></a>"
   ]
  },
  {
   "cell_type": "markdown",
   "id": "bcccd001",
   "metadata": {},
   "source": [
    "#### Classification - Binomial logistic regression\n",
    "Kategorik verilerle başa çıkmak için yeni bir get_dummy işlevi oluşturacağız. Diğer durumlarda bu get_dummy fonksiyonunu kullanmanızı şiddetle tavsiye ederiz. Bu fonksiyon sizin için çok zaman kazandıracak.\n",
    "\n",
    "[Kaynak ve daha fazlası için lütfen Tıklayınız!](https://runawayhorse001.github.io/LearningApacheSpark/classification.html#binomial-logistic-regression)"
   ]
  },
  {
   "attachments": {
    "image.png": {
     "image/png": "[encoded data removed]"
    }
   },
   "cell_type": "markdown",
   "id": "9287be2a",
   "metadata": {},
   "source": [
    "![image.png](attachment:image.png)"
   ]
  },
  {
   "cell_type": "markdown",
   "id": "8acc30d9",
   "metadata": {},
   "source": [
    "___"
   ]
  },
  {
   "cell_type": "raw",
   "id": "c832001d",
   "metadata": {},
   "source": [
    "def get_dummy(df,categoricalCols,continuousCols,labelCol):\n",
    "\n",
    "    from pyspark.ml import Pipeline\n",
    "    from pyspark.ml.feature import StringIndexer, OneHotEncoder, VectorAssembler\n",
    "    from pyspark.sql.functions import col\n",
    "    \n",
    "    # StringIndexer: Kaegorik değerleri, aynı değerde olanlara index atıyor. (örneğin tüm \"a\" değerlerine 1 atamak gibi)\n",
    "    # OneHotEncoder: Kategorik değişkenlerin ikili (binary) olarak temsil edilmesidir.\n",
    "    # VectorAssembler: Bütün featureları yani baüımsız değişkenleri bir listede toplar.\n",
    "\n",
    "    indexers = [ StringIndexer(inputCol=c, outputCol=\"{0}_indexed\".format(c))\n",
    "                 for c in categoricalCols ]\n",
    "    \n",
    "    # Yukarıdaki \"indexer\"; kategorik kolonları input olarak alıp, output olarak mevcut sütunu alıp sonuna \"_indexed\" ekler.\n",
    "\n",
    "    # default setting: dropLast=True\n",
    "    encoders = [ OneHotEncoder(inputCol=indexer.getOutputCol(),\n",
    "                 outputCol=\"{0}_encoded\".format(indexer.getOutputCol()))\n",
    "                 for indexer in indexers ]\n",
    "    \n",
    "    # Şimdi \"indexers\"ı \"encoder\" yapacağız. \"indexers\" sütununun çıktısını alıp (sex, Unvan, Embarked) gibi dummy yapılacak\n",
    "    # sütunları alıp sonuna \"_encoded\" ifadesi ekler.\n",
    "\n",
    "    assembler = VectorAssembler(inputCols=[encoder.getOutputCol() for encoder in encoders]\n",
    "                                + continuousCols, outputCol=\"features\")\n",
    "    \n",
    "    # assembler; en son tüm ilgili feature ları vectorassembler ile birleştirir. Continuous verileri birleşirir. Numerik \n",
    "    # veriler zaten olduğu gibi vector assembler içine bir işlem yapılmadan olduğu gibi atılır.\n",
    "\n",
    "    pipeline = Pipeline(stages=indexers + encoders + [assembler])\n",
    "\n",
    "    model=pipeline.fit(df)\n",
    "    data = model.transform(df)\n",
    "\n",
    "    data = data.withColumn('label',col(labelCol))\n",
    "\n",
    "    return data.select('features','label')"
   ]
  },
  {
   "cell_type": "markdown",
   "id": "972e8680",
   "metadata": {},
   "source": [
    "___"
   ]
  },
  {
   "cell_type": "markdown",
   "id": "3ec43db1",
   "metadata": {},
   "source": [
    "#### Manual Olarak "
   ]
  },
  {
   "cell_type": "code",
   "execution_count": 46,
   "id": "c293dcdd",
   "metadata": {},
   "outputs": [],
   "source": [
    "# Kategorik ve numerik feature ları belirleyelim\n",
    "cat_cols = [\"Sex\",\"Embarked\",\"Unvan\"]\n",
    "num_cols = ['Pclass', 'Age','SibSp','Parch','Family','Fare']"
   ]
  },
  {
   "cell_type": "code",
   "execution_count": 47,
   "id": "ff55de40",
   "metadata": {},
   "outputs": [],
   "source": [
    "# stringIndexer\n",
    "# Kategorik sütunları girdi olarak alır ve çıkış sütununa herbirine \"_index\" yazar.\n",
    "stringIndexer = StringIndexer(inputCols=cat_cols, outputCols=[x + \"_index\" for x in cat_cols])"
   ]
  },
  {
   "cell_type": "code",
   "execution_count": 48,
   "id": "90bcf92d",
   "metadata": {},
   "outputs": [],
   "source": [
    "# encoder / get_dummy\n",
    "# stringIndexer'ın çıktısını (kategorik+\"_index\") alır ve çıktı olarak sonuna \"_ohe\" OneHotEncoder ifadesini ekler.\n",
    "encoder = OneHotEncoder(inputCols=stringIndexer.getOutputCols(), outputCols=[x + \"_ohe\" for x in cat_cols], dropLast=False)"
   ]
  },
  {
   "cell_type": "code",
   "execution_count": 49,
   "id": "8d3cf14d",
   "metadata": {},
   "outputs": [],
   "source": [
    "# Şimdi sırası ile uygulayalım.\n",
    "df = stringIndexer.fit(df).transform(df)"
   ]
  },
  {
   "cell_type": "code",
   "execution_count": 50,
   "id": "b20738d1",
   "metadata": {},
   "outputs": [],
   "source": [
    "df = encoder.fit(df).transform(df)"
   ]
  },
  {
   "cell_type": "code",
   "execution_count": 51,
   "id": "3902bb6d",
   "metadata": {},
   "outputs": [],
   "source": [
    "assembler = VectorAssembler(\n",
    "  inputCols= ['Pclass', \n",
    "              'Age',\n",
    "              'Family',\n",
    "              'Fare',\n",
    "              'Sex_ohe',\n",
    "              'Embarked_ohe',\n",
    "              'Unvan_ohe'],\n",
    "    \n",
    "    outputCol=\"features\")"
   ]
  },
  {
   "cell_type": "code",
   "execution_count": 52,
   "id": "830e76a9",
   "metadata": {},
   "outputs": [],
   "source": [
    "df = assembler.transform(df)"
   ]
  },
  {
   "cell_type": "code",
   "execution_count": 53,
   "id": "79fe01b1",
   "metadata": {},
   "outputs": [
    {
     "name": "stdout",
     "output_type": "stream",
     "text": [
      "+--------------------------------------------------------+--------+-------------+-------------+-------------+\n",
      "|features                                                |Survived|Sex_ohe      |Embarked_ohe |Unvan_ohe    |\n",
      "+--------------------------------------------------------+--------+-------------+-------------+-------------+\n",
      "|(13,[0,1,2,3,4,6,9],[3.0,22.0,2.0,7.25,1.0,1.0,1.0])    |0       |(2,[0],[1.0])|(3,[0],[1.0])|(4,[0],[1.0])|\n",
      "|(13,[0,1,2,3,5,7,11],[1.0,38.0,2.0,71.2833,1.0,1.0,1.0])|1       |(2,[1],[1.0])|(3,[1],[1.0])|(4,[2],[1.0])|\n",
      "|(13,[0,1,2,3,5,6,10],[3.0,26.0,1.0,7.925,1.0,1.0,1.0])  |1       |(2,[1],[1.0])|(3,[0],[1.0])|(4,[1],[1.0])|\n",
      "|(13,[0,1,2,3,5,6,11],[1.0,35.0,2.0,53.1,1.0,1.0,1.0])   |1       |(2,[1],[1.0])|(3,[0],[1.0])|(4,[2],[1.0])|\n",
      "|(13,[0,1,2,3,4,6,9],[3.0,35.0,1.0,8.05,1.0,1.0,1.0])    |0       |(2,[0],[1.0])|(3,[0],[1.0])|(4,[0],[1.0])|\n",
      "|(13,[0,1,2,3,4,8,9],[3.0,28.0,1.0,8.4583,1.0,1.0,1.0])  |0       |(2,[0],[1.0])|(3,[2],[1.0])|(4,[0],[1.0])|\n",
      "|(13,[0,1,2,3,4,6,9],[1.0,54.0,1.0,51.8625,1.0,1.0,1.0]) |0       |(2,[0],[1.0])|(3,[0],[1.0])|(4,[0],[1.0])|\n",
      "|(13,[0,1,2,3,4,6,9],[3.0,2.0,5.0,21.075,1.0,1.0,1.0])   |0       |(2,[0],[1.0])|(3,[0],[1.0])|(4,[0],[1.0])|\n",
      "|(13,[0,1,2,3,5,6,11],[3.0,27.0,3.0,11.1333,1.0,1.0,1.0])|1       |(2,[1],[1.0])|(3,[0],[1.0])|(4,[2],[1.0])|\n",
      "|(13,[0,1,2,3,5,7,11],[2.0,14.0,2.0,30.0708,1.0,1.0,1.0])|1       |(2,[1],[1.0])|(3,[1],[1.0])|(4,[2],[1.0])|\n",
      "|(13,[0,1,2,3,5,6,10],[3.0,4.0,3.0,16.7,1.0,1.0,1.0])    |1       |(2,[1],[1.0])|(3,[0],[1.0])|(4,[1],[1.0])|\n",
      "|(13,[0,1,2,3,5,6,10],[1.0,58.0,1.0,26.55,1.0,1.0,1.0])  |1       |(2,[1],[1.0])|(3,[0],[1.0])|(4,[1],[1.0])|\n",
      "|(13,[0,1,2,3,4,6,9],[3.0,20.0,1.0,8.05,1.0,1.0,1.0])    |0       |(2,[0],[1.0])|(3,[0],[1.0])|(4,[0],[1.0])|\n",
      "|(13,[0,1,2,3,4,6,9],[3.0,39.0,7.0,31.275,1.0,1.0,1.0])  |0       |(2,[0],[1.0])|(3,[0],[1.0])|(4,[0],[1.0])|\n",
      "|(13,[0,1,2,3,5,6,10],[3.0,14.0,1.0,7.8542,1.0,1.0,1.0]) |0       |(2,[1],[1.0])|(3,[0],[1.0])|(4,[1],[1.0])|\n",
      "|(13,[0,1,2,3,5,6,11],[2.0,55.0,1.0,16.0,1.0,1.0,1.0])   |1       |(2,[1],[1.0])|(3,[0],[1.0])|(4,[2],[1.0])|\n",
      "|(13,[0,1,2,3,4,8,9],[3.0,2.0,6.0,29.125,1.0,1.0,1.0])   |0       |(2,[0],[1.0])|(3,[2],[1.0])|(4,[0],[1.0])|\n",
      "|(13,[0,1,2,3,4,6,9],[2.0,28.0,1.0,13.0,1.0,1.0,1.0])    |1       |(2,[0],[1.0])|(3,[0],[1.0])|(4,[0],[1.0])|\n",
      "|(13,[0,1,2,3,5,6,11],[3.0,31.0,2.0,18.0,1.0,1.0,1.0])   |0       |(2,[1],[1.0])|(3,[0],[1.0])|(4,[2],[1.0])|\n",
      "|(13,[0,1,2,3,5,7,11],[3.0,36.0,1.0,7.225,1.0,1.0,1.0])  |1       |(2,[1],[1.0])|(3,[1],[1.0])|(4,[2],[1.0])|\n",
      "+--------------------------------------------------------+--------+-------------+-------------+-------------+\n",
      "only showing top 20 rows\n",
      "\n"
     ]
    }
   ],
   "source": [
    "# Şimdisonuçları görelim.\n",
    "df.select(\"features\", \"Survived\",'Sex_ohe','Embarked_ohe','Unvan_ohe').show(truncate = False)"
   ]
  },
  {
   "attachments": {
    "image-2.png": {
     "image/png": "[encoded data removed]"
    }
   },
   "cell_type": "markdown",
   "id": "e51fe00e",
   "metadata": {},
   "source": [
    "**Örneğin**<br>\n",
    "'Pclass' 1.0<br>\n",
    "'Age' 38.0<br>\n",
    "'Family' 2.0<br>\n",
    "'Fare' 71.2833<br>\n",
    "'Sex_ohe' 1.0<br>\n",
    "'Embarked_ohe' 1.0<br>\n",
    "'Unvan_ohe' 1.0<br>\n",
    "                                                     \n",
    "![image-2.png](attachment:image-2.png)"
   ]
  },
  {
   "cell_type": "markdown",
   "id": "be5ca198",
   "metadata": {},
   "source": [
    "# <span style=\"color:LightCoral; background-color:#F5EEF8\"><font size=\"6\">Model Train with PySpark</font></span> <a id=\"16\"></a>"
   ]
  },
  {
   "cell_type": "code",
   "execution_count": 54,
   "id": "9a34fe42",
   "metadata": {},
   "outputs": [
    {
     "data": {
      "text/plain": [
       "1309"
      ]
     },
     "execution_count": 54,
     "metadata": {},
     "output_type": "execute_result"
    }
   ],
   "source": [
    "# Satır sayısı\n",
    "df.count()"
   ]
  },
  {
   "cell_type": "markdown",
   "id": "f7fb716e",
   "metadata": {},
   "source": [
    "# <span style=\"color:LightCoral; background-color:#F5EEF8\"><font size=\"6\">How to divide the data with limit()</font></span> <a id=\"16.1\"></a>"
   ]
  },
  {
   "cell_type": "code",
   "execution_count": 55,
   "id": "492e05c2",
   "metadata": {},
   "outputs": [],
   "source": [
    "# Dataframe in ilk 891 satırı train datasıdır. Yani içinde \"Survived\" değerli olan satırlar.\n",
    "final_train_df = df.select(\"features\", \"Survived\").limit(891)"
   ]
  },
  {
   "cell_type": "code",
   "execution_count": 56,
   "id": "23e5397a",
   "metadata": {},
   "outputs": [],
   "source": [
    "# Burada veriyi bölerken manual olarak böldük. 1309-891=418. Tersten ilk 418 satırı aldım.\n",
    "df = df.withColumn('index', F.monotonically_increasing_id())\n",
    "final_test_df = df.select(\"features\").sort('index', ascending=False).limit(418)"
   ]
  },
  {
   "cell_type": "code",
   "execution_count": 57,
   "id": "b64c46e9",
   "metadata": {},
   "outputs": [
    {
     "data": {
      "text/plain": [
       "(891, 418)"
      ]
     },
     "execution_count": 57,
     "metadata": {},
     "output_type": "execute_result"
    }
   ],
   "source": [
    "final_train_df.count(),final_test_df.count()"
   ]
  },
  {
   "cell_type": "markdown",
   "id": "d3a6177d",
   "metadata": {},
   "source": [
    "# <span style=\"color:LightCoral; background-color:#F5EEF8\"><font size=\"6\">randomSplit()</font></span> <a id=\"16.2\"></a>"
   ]
  },
  {
   "cell_type": "code",
   "execution_count": 58,
   "id": "f533a3c1",
   "metadata": {},
   "outputs": [],
   "source": [
    "# \"final_train_df\" datasını kendi içerisinde bölüyorum.\n",
    "train_df,test_df = final_train_df.randomSplit([0.75,0.25],seed =42)"
   ]
  },
  {
   "cell_type": "markdown",
   "id": "4db299c3",
   "metadata": {},
   "source": [
    "# <span style=\"color:LightCoral; background-color:#F5EEF8\"><font size=\"6\">LogisticRegression Model</font></span> <a id=\"16.3\"></a>"
   ]
  },
  {
   "cell_type": "code",
   "execution_count": 59,
   "id": "3a3fa394",
   "metadata": {},
   "outputs": [
    {
     "name": "stdout",
     "output_type": "stream",
     "text": [
      "+--------------------+--------+--------------------+--------------------+----------+\n",
      "|            features|Survived|       rawPrediction|         probability|prediction|\n",
      "+--------------------+--------+--------------------+--------------------+----------+\n",
      "|(13,[0,1,2,3,4,6,...|       1|[-0.1461474925305...|[0.46352802112482...|       1.0|\n",
      "|(13,[0,1,2,3,4,6,...|       1|[-0.1538317586142...|[0.46161772103630...|       1.0|\n",
      "|(13,[0,1,2,3,4,6,...|       0|[-0.1019933711713...|[0.47452373842702...|       1.0|\n",
      "|(13,[0,1,2,3,4,6,...|       0|[-0.1021240377731...|[0.47449115669290...|       1.0|\n",
      "|(13,[0,1,2,3,4,6,...|       1|[-0.1090929232056...|[0.47275378587674...|       1.0|\n",
      "|(13,[0,1,2,3,4,6,...|       0|[-0.1306964680462...|[0.46737231410434...|       1.0|\n",
      "|(13,[0,1,2,3,4,6,...|       0|[-0.4432147414880...|[0.39097522786520...|       1.0|\n",
      "|(13,[0,1,2,3,4,6,...|       0|[0.15380123439528...|[0.53837469286831...|       0.0|\n",
      "|(13,[0,1,2,3,4,6,...|       1|[0.16012408885748...|[0.53994570891910...|       0.0|\n",
      "|(13,[0,1,2,3,4,6,...|       1|[0.24831687142320...|[0.56176218231635...|       0.0|\n",
      "|(13,[0,1,2,3,4,6,...|       0|[0.44524025239015...|[0.60950696717723...|       0.0|\n",
      "|(13,[0,1,2,3,4,6,...|       1|[0.95054562570952...|[0.72122489452104...|       0.0|\n",
      "|(13,[0,1,2,3,4,6,...|       1|[0.75425970515652...|[0.68010615831976...|       0.0|\n",
      "|(13,[0,1,2,3,4,6,...|       0|[0.62707617972799...|[0.65182619957870...|       0.0|\n",
      "|(13,[0,1,2,3,4,6,...|       0|[0.83199200117530...|[0.69677596317558...|       0.0|\n",
      "|(13,[0,1,2,3,4,6,...|       0|[0.66120559159960...|[0.65953115586013...|       0.0|\n",
      "|(13,[0,1,2,3,4,6,...|       0|[0.73208139839952...|[0.67526185484669...|       0.0|\n",
      "|(13,[0,1,2,3,4,6,...|       0|[0.70958496511285...|[0.67030944578559...|       0.0|\n",
      "|(13,[0,1,2,3,4,6,...|       0|[1.09937237877336...|[0.75014248981160...|       0.0|\n",
      "|(13,[0,1,2,3,4,6,...|       0|[1.07446453381460...|[0.74544501916210...|       0.0|\n",
      "+--------------------+--------+--------------------+--------------------+----------+\n",
      "only showing top 20 rows\n",
      "\n"
     ]
    }
   ],
   "source": [
    "# Parametreler\n",
    "from pyspark.ml.classification import LogisticRegression\n",
    "lr = LogisticRegression(labelCol=\"Survived\", featuresCol=\"features\")\n",
    "\n",
    "lrModel = lr.fit(train_df)\n",
    "lr_prediction = lrModel.transform(test_df)\n",
    "lr_prediction.show()"
   ]
  },
  {
   "cell_type": "code",
   "execution_count": 60,
   "id": "bed41408",
   "metadata": {},
   "outputs": [
    {
     "name": "stdout",
     "output_type": "stream",
     "text": [
      "Area under ROC curve: 0.863686466625842\n",
      "Accuracy: 0.7903225806451613\n",
      "F1- Score: 0.7911061237890363\n"
     ]
    }
   ],
   "source": [
    "# Metrikler\n",
    "from pyspark.ml.evaluation import BinaryClassificationEvaluator, MulticlassClassificationEvaluator\n",
    "\n",
    "# ROC eğrisi değeri\n",
    "bcEvaluator = BinaryClassificationEvaluator(metricName=\"areaUnderROC\",labelCol = \"Survived\")\n",
    "print(f\"Area under ROC curve: {bcEvaluator.evaluate(lr_prediction)}\")\n",
    "\n",
    "# Accuracy skoru\n",
    "mcEvaluator = MulticlassClassificationEvaluator(metricName=\"accuracy\",labelCol = \"Survived\",predictionCol='prediction')\n",
    "print(f\"Accuracy: {mcEvaluator.evaluate(lr_prediction)}\")\n",
    "\n",
    "# Harmonic F1 skoru\n",
    "mcEvaluator = MulticlassClassificationEvaluator(metricName=\"f1\",labelCol = \"Survived\",predictionCol='prediction')\n",
    "print(f\"F1- Score: {mcEvaluator.evaluate(lr_prediction)}\")"
   ]
  },
  {
   "cell_type": "markdown",
   "id": "5c260acc",
   "metadata": {},
   "source": [
    "___"
   ]
  },
  {
   "cell_type": "markdown",
   "id": "e5babeaa",
   "metadata": {},
   "source": [
    "#### Aşağıdaki kod üzerinde çalışmakta fayda var. Şu an bir çıktı alamadık. Kendi kodumuza uydurmakta fayda var.\n",
    "#### MulticlassMetrics"
   ]
  },
  {
   "cell_type": "raw",
   "id": "d6c4a01e",
   "metadata": {},
   "source": [
    "from pyspark.mllib.evaluation import MulticlassMetrics\n",
    "from pyspark.sql.types import FloatType\n",
    "import pyspark.sql.functions as F\n",
    "\n",
    "preds_and_labels = predictions.select(['prediction','labelindex']).withColumn('labelindex', F.col('labelindex').cast(FloatType())).orderBy('prediction')\n",
    "preds_and_labels = preds_and_labels.select(['prediction' , 'labelindex'])\n",
    "metrics = MulticlassMetrics(preds_and_labels.rdd.map(tuple))\n",
    "print(metrics.confusionMatrix().toArray())"
   ]
  },
  {
   "cell_type": "markdown",
   "id": "b898b24a",
   "metadata": {},
   "source": [
    "___"
   ]
  },
  {
   "cell_type": "markdown",
   "id": "203a92df",
   "metadata": {},
   "source": [
    "# <span style=\"color:LightCoral; background-color:#F5EEF8\"><font size=\"6\">DecisionTreeClassifier Model</font></span> <a id=\"16.4\"></a>"
   ]
  },
  {
   "cell_type": "code",
   "execution_count": 61,
   "id": "99cc6e09",
   "metadata": {},
   "outputs": [
    {
     "name": "stdout",
     "output_type": "stream",
     "text": [
      "+--------------------+--------+-------------+--------------------+----------+\n",
      "|            features|Survived|rawPrediction|         probability|prediction|\n",
      "+--------------------+--------+-------------+--------------------+----------+\n",
      "|(13,[0,1,2,3,4,6,...|       1|  [34.0,19.0]|[0.64150943396226...|       0.0|\n",
      "|(13,[0,1,2,3,4,6,...|       1|  [34.0,19.0]|[0.64150943396226...|       0.0|\n",
      "|(13,[0,1,2,3,4,6,...|       0|    [5.0,9.0]|[0.35714285714285...|       1.0|\n",
      "|(13,[0,1,2,3,4,6,...|       0|    [5.0,9.0]|[0.35714285714285...|       1.0|\n",
      "|(13,[0,1,2,3,4,6,...|       1|  [34.0,19.0]|[0.64150943396226...|       0.0|\n",
      "|(13,[0,1,2,3,4,6,...|       0|  [34.0,19.0]|[0.64150943396226...|       0.0|\n",
      "|(13,[0,1,2,3,4,6,...|       0|  [34.0,19.0]|[0.64150943396226...|       0.0|\n",
      "|(13,[0,1,2,3,4,6,...|       0|    [5.0,9.0]|[0.35714285714285...|       1.0|\n",
      "|(13,[0,1,2,3,4,6,...|       1|    [5.0,9.0]|[0.35714285714285...|       1.0|\n",
      "|(13,[0,1,2,3,4,6,...|       1|    [5.0,9.0]|[0.35714285714285...|       1.0|\n",
      "|(13,[0,1,2,3,4,6,...|       0|  [34.0,19.0]|[0.64150943396226...|       0.0|\n",
      "|(13,[0,1,2,3,4,6,...|       1|  [34.0,19.0]|[0.64150943396226...|       0.0|\n",
      "|(13,[0,1,2,3,4,6,...|       1|  [34.0,19.0]|[0.64150943396226...|       0.0|\n",
      "|(13,[0,1,2,3,4,6,...|       0|  [34.0,19.0]|[0.64150943396226...|       0.0|\n",
      "|(13,[0,1,2,3,4,6,...|       0|  [34.0,19.0]|[0.64150943396226...|       0.0|\n",
      "|(13,[0,1,2,3,4,6,...|       0|  [34.0,19.0]|[0.64150943396226...|       0.0|\n",
      "|(13,[0,1,2,3,4,6,...|       0|    [5.0,9.0]|[0.35714285714285...|       1.0|\n",
      "|(13,[0,1,2,3,4,6,...|       0|  [34.0,19.0]|[0.64150943396226...|       0.0|\n",
      "|(13,[0,1,2,3,4,6,...|       0|  [34.0,19.0]|[0.64150943396226...|       0.0|\n",
      "|(13,[0,1,2,3,4,6,...|       0|   [15.0,2.0]|[0.88235294117647...|       0.0|\n",
      "+--------------------+--------+-------------+--------------------+----------+\n",
      "only showing top 20 rows\n",
      "\n"
     ]
    }
   ],
   "source": [
    "# Paramereler\n",
    "from pyspark.ml.classification import DecisionTreeClassifier\n",
    "\n",
    "dt = DecisionTreeClassifier(labelCol=\"Survived\", featuresCol=\"features\")\n",
    "\n",
    "dtModel = dt.fit(train_df)\n",
    "dt_prediction = dtModel.transform(test_df)\n",
    "dt_prediction.show()"
   ]
  },
  {
   "cell_type": "code",
   "execution_count": 62,
   "id": "2de43b5e",
   "metadata": {},
   "outputs": [
    {
     "name": "stdout",
     "output_type": "stream",
     "text": [
      "Area under ROC curve: 0.6657072872014698\n",
      "Accuracy: 0.7741935483870968\n",
      "F1- Score: 0.7728509607892498\n"
     ]
    }
   ],
   "source": [
    "# Metrikler\n",
    "\n",
    "# ROC eğrisi değeri\n",
    "bcEvaluator = BinaryClassificationEvaluator(metricName=\"areaUnderROC\",labelCol = \"Survived\")\n",
    "print(f\"Area under ROC curve: {bcEvaluator.evaluate(dt_prediction)}\")\n",
    "\n",
    "# Accuracy skoru\n",
    "mcEvaluator = MulticlassClassificationEvaluator(metricName=\"accuracy\",labelCol = \"Survived\",predictionCol='prediction')\n",
    "print(f\"Accuracy: {mcEvaluator.evaluate(dt_prediction)}\")\n",
    "\n",
    "# Harmonic F1 skoru\n",
    "mcEvaluator = MulticlassClassificationEvaluator(metricName=\"f1\",labelCol = \"Survived\",predictionCol='prediction')\n",
    "print(f\"F1- Score: {mcEvaluator.evaluate(dt_prediction)}\")"
   ]
  },
  {
   "cell_type": "markdown",
   "id": "48f8e86e",
   "metadata": {},
   "source": [
    "___"
   ]
  },
  {
   "cell_type": "markdown",
   "id": "76296c23",
   "metadata": {},
   "source": [
    "# <span style=\"color:LightCoral; background-color:#F5EEF8\"><font size=\"6\">RandomForestClassifier Model</font></span> <a id=\"16.5\"></a>"
   ]
  },
  {
   "cell_type": "code",
   "execution_count": 63,
   "id": "94f57873",
   "metadata": {},
   "outputs": [
    {
     "name": "stdout",
     "output_type": "stream",
     "text": [
      "+--------------------+--------+--------------------+--------------------+----------+\n",
      "|            features|Survived|       rawPrediction|         probability|prediction|\n",
      "+--------------------+--------+--------------------+--------------------+----------+\n",
      "|(13,[0,1,2,3,4,6,...|       1|[14.3622460716880...|[0.71811230358440...|       0.0|\n",
      "|(13,[0,1,2,3,4,6,...|       1|[12.8576326822579...|[0.64288163411289...|       0.0|\n",
      "|(13,[0,1,2,3,4,6,...|       0|[14.8415113880576...|[0.74207556940288...|       0.0|\n",
      "|(13,[0,1,2,3,4,6,...|       0|[14.8415113880576...|[0.74207556940288...|       0.0|\n",
      "|(13,[0,1,2,3,4,6,...|       1|[12.8576326822579...|[0.64288163411289...|       0.0|\n",
      "|(13,[0,1,2,3,4,6,...|       0|[13.7041257993357...|[0.68520628996678...|       0.0|\n",
      "|(13,[0,1,2,3,4,6,...|       0|[14.3485702437801...|[0.71742851218900...|       0.0|\n",
      "|(13,[0,1,2,3,4,6,...|       0|[15.3885389478872...|[0.76942694739436...|       0.0|\n",
      "|(13,[0,1,2,3,4,6,...|       1|[12.8576326822579...|[0.64288163411289...|       0.0|\n",
      "|(13,[0,1,2,3,4,6,...|       1|[12.8576326822579...|[0.64288163411289...|       0.0|\n",
      "|(13,[0,1,2,3,4,6,...|       0|[13.8612686564786...|[0.69306343282393...|       0.0|\n",
      "|(13,[0,1,2,3,4,6,...|       1|[15.3476537799218...|[0.76738268899609...|       0.0|\n",
      "|(13,[0,1,2,3,4,6,...|       1|[13.8612686564786...|[0.69306343282393...|       0.0|\n",
      "|(13,[0,1,2,3,4,6,...|       0|[13.2871978996492...|[0.66435989498246...|       0.0|\n",
      "|(13,[0,1,2,3,4,6,...|       0|[13.8612686564786...|[0.69306343282393...|       0.0|\n",
      "|(13,[0,1,2,3,4,6,...|       0|[12.8576326822579...|[0.64288163411289...|       0.0|\n",
      "|(13,[0,1,2,3,4,6,...|       0|[14.8415113880576...|[0.74207556940288...|       0.0|\n",
      "|(13,[0,1,2,3,4,6,...|       0|[13.7041257993357...|[0.68520628996678...|       0.0|\n",
      "|(13,[0,1,2,3,4,6,...|       0|[13.8612686564786...|[0.69306343282393...|       0.0|\n",
      "|(13,[0,1,2,3,4,6,...|       0|[14.7224909818530...|[0.73612454909265...|       0.0|\n",
      "+--------------------+--------+--------------------+--------------------+----------+\n",
      "only showing top 20 rows\n",
      "\n"
     ]
    }
   ],
   "source": [
    "# Paramereler\n",
    "from pyspark.ml.classification import RandomForestClassifier\n",
    "\n",
    "rf = RandomForestClassifier(labelCol=\"Survived\", featuresCol=\"features\")\n",
    "\n",
    "rfModel = rf.fit(train_df)\n",
    "rf_prediction = rfModel.transform(test_df)\n",
    "rf_prediction.show()"
   ]
  },
  {
   "cell_type": "code",
   "execution_count": 64,
   "id": "cdadea8e",
   "metadata": {},
   "outputs": [
    {
     "name": "stdout",
     "output_type": "stream",
     "text": [
      "Area under ROC curve: 0.8722596448254748\n",
      "Accuracy: 0.8010752688172043\n",
      "F1- Score: 0.7980901775291245\n"
     ]
    }
   ],
   "source": [
    "# Metrikler\n",
    "\n",
    "# ROC eğrisi değeri\n",
    "bcEvaluator = BinaryClassificationEvaluator(metricName=\"areaUnderROC\",labelCol = \"Survived\")\n",
    "print(f\"Area under ROC curve: {bcEvaluator.evaluate(rf_prediction)}\")\n",
    "\n",
    "# Accuracy skoru\n",
    "mcEvaluator = MulticlassClassificationEvaluator(metricName=\"accuracy\",labelCol = \"Survived\",predictionCol='prediction')\n",
    "print(f\"Accuracy: {mcEvaluator.evaluate(rf_prediction)}\")\n",
    "\n",
    "# Harmonic F1 skoru\n",
    "mcEvaluator = MulticlassClassificationEvaluator(metricName=\"f1\",labelCol = \"Survived\",predictionCol='prediction')\n",
    "print(f\"F1- Score: {mcEvaluator.evaluate(rf_prediction)}\")"
   ]
  },
  {
   "cell_type": "markdown",
   "id": "4bc32c12",
   "metadata": {},
   "source": [
    "___"
   ]
  },
  {
   "cell_type": "markdown",
   "id": "fb25bc40",
   "metadata": {},
   "source": [
    "# <span style=\"color:LightCoral; background-color:#F5EEF8\"><font size=\"6\">Sonuç</font></span> <a id=\"17\"> </a>"
   ]
  },
  {
   "cell_type": "markdown",
   "id": "69d15311",
   "metadata": {},
   "source": [
    "Bu notebook içerisindeki tüm kodlar @Bünyamin Hocam'ın yoğun emek harcayarak yazdığı kodlardır.<br>\n",
    "Dilerseniz PySpark kütüphanesinin dökümanlarını ve bu konu üzerinde forumlarda yer alan tartışmaları takip edebilirsiniz.<br>\n",
    "NLP alanında sıkça karşımıza çıkacak olan bu dili öğrenmek elzemdir.<br>\n",
    "Tanıtım ve temel kodların açıklandığı bu notebooka ek olarak, Python ile makine öğrenmesi yaparken uygulanan tüm kodlar jenere edilebilir. (Gridsearch, cross validation vesaire)<br>\n",
    "İlgili sorularınızı, önerilerinizi ve geri beslemelerinizş aşağıdaki iletişim bilgilerinden bizlere ulaşarak iletebilrisiniz:<br>\n",
    "- [Bünyamin Hoca Linkedin](https://www.linkedin.com/in/bunyaminpolat/)\n",
    "- [Bünyamin Hoca GitHub](https://github.com/bunyamin-polat)\n",
    "- [Bünyamin Hoca Mail](muhendisbp@hotmail.com)\n",
    "- [Bünyamin Hoca Kaggle](https://www.kaggle.com/bunyaminpolat)\n",
    "<br>\n",
    "\n",
    "* [Emir Linkedin](https://www.linkedin.com/in/emirhan-bozdogan/)\n",
    "* [Emir GitHub](https://github.com/emir1031)\n",
    "* [Emir Mail](emrhn1031@gmail.com)\n",
    "* [Emir Kaggle](https://www.kaggle.com/emrhn1031)"
   ]
  },
  {
   "cell_type": "markdown",
   "id": "56074158",
   "metadata": {},
   "source": [
    "<img src=\"https://i.ytimg.com/vi/fizFooxxpBo/hqdefault.jpg\" alt=\"J.Society's logo\" style=\"\"/>"
   ]
  }
 ],
 "metadata": {
  "kernelspec": {
   "display_name": "Python 3 (ipykernel)",
   "language": "python",
   "name": "python3"
  },
  "language_info": {
   "codemirror_mode": {
    "name": "ipython",
    "version": 3
   },
   "file_extension": ".py",
   "mimetype": "text/x-python",
   "name": "python",
   "nbconvert_exporter": "python",
   "pygments_lexer": "ipython3",
   "version": "3.9.12"
  }
 },
 "nbformat": 4,
 "nbformat_minor": 5
}
